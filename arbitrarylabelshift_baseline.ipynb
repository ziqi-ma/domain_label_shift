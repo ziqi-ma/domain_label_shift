{
  "cells": [
    {
      "cell_type": "code",
      "source": [
        "from tensorflow.keras.datasets import cifar10\n",
        "from scipy import ndimage\n",
        "import numpy as np\n",
        "import tensorflow as tf\n",
        "import tensorflow.keras as keras\n",
        "from tensorflow.keras import regularizers\n",
        "from tensorflow.keras import losses\n",
        "from tensorflow.keras import metrics\n",
        "from tensorflow.keras import datasets, layers, models\n",
        "from tensorflow.keras.utils import to_categorical"
      ],
      "outputs": [],
      "execution_count": 20,
      "metadata": {
        "gather": {
          "logged": 1635446974111
        }
      }
    },
    {
      "cell_type": "code",
      "source": [
        "# code modified from  https://github.com/p-lambda/gradual_domain_adaptation\n",
        "\n",
        "# helper functions\n",
        "def get_preprocessed_cifar10():\n",
        "    (train_x, train_y), (test_x, test_y) = cifar10.load_data()\n",
        "    train_x, test_x = train_x / 255.0, test_x / 255.0\n",
        "    train_x, train_y = shuffle(train_x, train_y)\n",
        "    train_y = to_categorical(train_y)\n",
        "    test_y = to_categorical(test_y)\n",
        "    #train_x = np.expand_dims(np.array(train_x), axis=-1)\n",
        "    #test_x = np.expand_dims(np.array(test_x), axis=-1)\n",
        "    return (train_x, train_y), (test_x, test_y)\n",
        "\n",
        "def continually_rotate_images(xs, start_angle, end_angle):\n",
        "    new_xs = []\n",
        "    num_points = xs.shape[0]\n",
        "    for i in range(num_points):\n",
        "        angle = float(end_angle - start_angle) / num_points * i + start_angle\n",
        "        img = ndimage.rotate(xs[i], angle, reshape=False)\n",
        "        new_xs.append(img)\n",
        "    return np.array(new_xs)\n",
        "\n",
        "def sample_rotate_images(xs, start_angle, end_angle):\n",
        "    new_xs = []\n",
        "    num_points = xs.shape[0]\n",
        "    for i in range(num_points):\n",
        "        if start_angle == end_angle:\n",
        "            angle = start_angle\n",
        "        else:\n",
        "            angle = np.random.uniform(low=start_angle, high=end_angle)\n",
        "        img = ndimage.rotate(xs[i], angle, reshape=False)\n",
        "        new_xs.append(img)\n",
        "    return np.array(new_xs)\n",
        "\n",
        "def _transition_rotation_dataset(train_x, train_y, test_x, test_y,\n",
        "                                 source_angles, target_angles, inter_func,\n",
        "                                 src_train_end, src_val_end, inter_end, target_end):\n",
        "    assert(target_end <= train_x.shape[0])\n",
        "    assert(train_x.shape[0] == train_y.shape[0])\n",
        "    src_tr_x, src_tr_y = train_x[:src_train_end], train_y[:src_train_end]\n",
        "    src_tr_x = sample_rotate_images(src_tr_x, source_angles[0], source_angles[1])\n",
        "    src_val_x, src_val_y = train_x[src_train_end:src_val_end], train_y[src_train_end:src_val_end]\n",
        "    src_val_x = sample_rotate_images(src_val_x, source_angles[0], source_angles[1])\n",
        "    tmp_inter_x, inter_y = train_x[src_val_end:inter_end], train_y[src_val_end:inter_end]\n",
        "    inter_x = inter_func(tmp_inter_x)\n",
        "    dir_inter_x = sample_rotate_images(tmp_inter_x, target_angles[0], target_angles[1])\n",
        "    dir_inter_y = np.array(inter_y)\n",
        "    # dir is the \"intermediate\" samples directly shifted to the target angles (as comparison)\n",
        "    assert(inter_x.shape == dir_inter_x.shape)\n",
        "    trg_val_x, trg_val_y = train_x[inter_end:target_end], train_y[inter_end:target_end]\n",
        "    trg_val_x = sample_rotate_images(trg_val_x, target_angles[0], target_angles[1])\n",
        "    trg_test_x, trg_test_y = test_x, test_y\n",
        "    trg_test_x = sample_rotate_images(trg_test_x, target_angles[0], target_angles[1])\n",
        "    return (src_tr_x, src_tr_y, src_val_x, src_val_y, inter_x, inter_y,\n",
        "            dir_inter_x, dir_inter_y, trg_val_x, trg_val_y, trg_test_x, trg_test_y)\n",
        "    \n",
        "\n",
        "def make_rotated_dataset(train_x, train_y, test_x, test_y,\n",
        "                         source_angles, inter_angles, target_angles,\n",
        "                         src_train_end, src_val_end, inter_end, target_end):\n",
        "    inter_func = lambda x: continually_rotate_images(x, inter_angles[0], inter_angles[1])\n",
        "    return _transition_rotation_dataset(\n",
        "        train_x, train_y, test_x, test_y, source_angles, target_angles,\n",
        "        inter_func, src_train_end, src_val_end, inter_end, target_end)\n",
        "    \n",
        "def tweak_one_shift(x, y, rho):\n",
        "    # assign class \"3\" probability rho - i started with 0 but realized that doesn't composite well w rotation...\n",
        "    # since 0 rotated is still 0...\n",
        "    # evenly distribute among the other classes\n",
        "    # y is categorical, first reverse to numerical\n",
        "    y_num = np.argmax(y, axis=1)\n",
        "    x_res_list = []\n",
        "    y_res_list = []\n",
        "    n_total = x.shape[0]\n",
        "    n_classes = 10\n",
        "    n_others = int((1-rho)*n_total/(n_classes-1))\n",
        "    n_chosen = n_total - n_others*(n_classes-1)\n",
        "    # sample from zero class\n",
        "    zero_idxs = np.argwhere(y_num == 7)[:, 0]\n",
        "    zero_chosen = np.random.choice(zero_idxs, n_chosen)\n",
        "    x_res_list.append(x[zero_chosen])\n",
        "    y_res_list.append(y[zero_chosen])\n",
        "    for i in [0,1,2,3,4,5,6,8,9]:\n",
        "        cur_idxs = np.argwhere(y_num == i)[:,0]\n",
        "        cur_selected = np.random.choice(cur_idxs, n_others)\n",
        "        x_res_list.append(x[cur_selected])\n",
        "        y_res_list.append(y[cur_selected])\n",
        "    x_res = np.concatenate(x_res_list,axis=0)\n",
        "    y_res = np.concatenate(y_res_list,axis=0)\n",
        "    # shuffle\n",
        "    shuffled_idx = np.arange(x_res.shape[0])\n",
        "    np.random.shuffle(shuffled_idx)\n",
        "    x_res_shuffled = x_res[shuffled_idx]\n",
        "    y_res_shuffled = y_res[shuffled_idx]\n",
        "    return x_res_shuffled, y_res_shuffled\n",
        "\n",
        "def resample_class_dist(x, y, p_vec): # the p_vec could be e.g. drawn from Dirichlet dist.\n",
        "    n_total = x.shape[0]\n",
        "    y_ordinal = np.argmax(y,axis=1)\n",
        "    px_counts = p_vec * n_total\n",
        "    x_res_list = []\n",
        "    y_res_list = []\n",
        "    for i in range(10):\n",
        "        cur_idxs = np.argwhere(y_ordinal == i)[:,0]\n",
        "        #print(cur_idxs)\n",
        "        if len(cur_idxs) == 0:\n",
        "            continue\n",
        "        cur_selected = np.random.choice(cur_idxs, int(px_counts[i]))\n",
        "        x_res_list.append(x[cur_selected])\n",
        "        y_res_list.append(y[cur_selected])\n",
        "    x_res = np.concatenate(x_res_list,axis=0)\n",
        "    y_res = np.concatenate(y_res_list,axis=0)\n",
        "    # shuffle\n",
        "    shuffled_idx = np.arange(x_res.shape[0])\n",
        "    np.random.shuffle(shuffled_idx)\n",
        "    x_res_shuffled = x_res[shuffled_idx]\n",
        "    y_res_shuffled = y_res[shuffled_idx]\n",
        "    return x_res_shuffled, y_res_shuffled\n",
        "\n",
        "def rotated_cifar10_60_data_func_nols():\n",
        "    (train_x, train_y), (test_x, test_y) = get_preprocessed_cifar10()\n",
        "    return make_rotated_dataset(\n",
        "        train_x, train_y, test_x, test_y, [0.0, 2.0], [2.0, 20.0], [18.0, 20.0],\n",
        "        25000, 26000, 48000, 50000)\n",
        "\n",
        "'''\n",
        "def rotated_cifar10_60_data_func_tweakone(interval, target_rho, source_rho = 0.1):\n",
        "    # interval is the granularity of label shift (change rho of shift per interval)\n",
        "    (train_x, train_y), (test_x, test_y) = get_preprocessed_cifar10()\n",
        "    (src_tr_x, src_tr_y, src_val_x, src_val_y, inter_x, inter_y,\n",
        "     dir_inter_x, dir_inter_y, trg_val_x, trg_val_y, trg_test_x, trg_test_y) = make_rotated_dataset(\n",
        "        train_x, train_y, test_x, test_y, [0.0, 2.0], [2.0, 20.0], [18.0, 20.0],\n",
        "        25000, 26000, 48000, 50000)\n",
        "    # add label shift\n",
        "    # for intermediate images we also introduce intermediate shift with granularity of interval\n",
        "    n_batches = int(inter_x.shape[0]/interval)+1\n",
        "    rho_list = np.linspace(source_rho, target_rho, n_batches)\n",
        "    inter_x_labelshifted = []\n",
        "    inter_y_labelshifted = []\n",
        "    for i in range(n_batches):\n",
        "        if (i+1)*interval <= inter_x.shape[0]:\n",
        "            cur_x = inter_x[i*interval:(i+1)*interval]\n",
        "            cur_y = inter_y[i*interval:(i+1)*interval]\n",
        "        else:\n",
        "            cur_x = inter_x[i*interval:]\n",
        "            cur_y = inter_y[i*interval:]\n",
        "        cur_shifted_x, cur_shifted_y = tweak_one_shift(cur_x, cur_y, rho_list[i])\n",
        "        inter_x_labelshifted.append(cur_shifted_x)\n",
        "        inter_y_labelshifted.append(cur_shifted_y)\n",
        "    inter_x_ls = np.concatenate(inter_x_labelshifted, axis=0)\n",
        "    inter_y_ls = np.concatenate(inter_y_labelshifted, axis=0)\n",
        "    \n",
        "    # dir_inter_x and dir_inter_y are for comparison (directly self-train on target)\n",
        "    dir_inter_x_ls, dir_inter_y_ls = tweak_one_shift(dir_inter_x, dir_inter_y, target_rho)\n",
        "\n",
        "    # shift all of trg_val_x, trg_val_y, trg_test_x, trg_test_y\n",
        "    trg_val_x_ls, trg_val_y_ls = tweak_one_shift(trg_val_x, trg_val_y, target_rho)\n",
        "    trg_test_x_ls, trg_test_y_ls = tweak_one_shift(trg_test_x, trg_test_y, target_rho)\n",
        "\n",
        "    return (src_tr_x, src_tr_y, src_val_x, src_val_y, inter_x_ls, inter_y_ls,\n",
        "            dir_inter_x_ls, dir_inter_y_ls, trg_val_x_ls, trg_val_y_ls, trg_test_x_ls, trg_test_y_ls)\n",
        "'''    \n",
        "\n",
        "def rotated_cifar10_60_data_func_dirichlet(interval, alpha, n_classes=10):\n",
        "    # interval is the granularity of x|y shift\n",
        "    # x|y shift is gradual, but each step we have arbitrary label shift\n",
        "    # return array of all dist vecs to get oracle training\n",
        "    (train_x, train_y), (test_x, test_y) = get_preprocessed_cifar10()\n",
        "    (src_tr_x, src_tr_y, src_val_x, src_val_y, inter_x, inter_y,\n",
        "     dir_inter_x, dir_inter_y, trg_val_x, trg_val_y, trg_test_x, trg_test_y) = make_rotated_dataset(\n",
        "        train_x, train_y, test_x, test_y, [0.0, 2.0], [2.0, 20.0], [18.0, 20.0],\n",
        "        25000, 26000, 48000, 50000)\n",
        "    # add label shift\n",
        "    # for intermediate images, each step introduce arbitrary shift\n",
        "    n_batches = int(inter_x.shape[0]/interval)\n",
        "    inter_x_labelshifted = []\n",
        "    inter_y_labelshifted = []\n",
        "    dist_store = np.zeros((n_batches+1, n_classes))\n",
        "    for i in range(n_batches):\n",
        "        if i == 0:\n",
        "            cur_prob = np.ones(n_classes)/n_classes # start with uniform, no need to correct on first step\n",
        "        else:\n",
        "            cur_prob = np.random.dirichlet(np.array([alpha]*n_classes))\n",
        "        dist_store[i,:] = cur_prob\n",
        "        if (i+1)*interval <= inter_x.shape[0]:\n",
        "            cur_x = inter_x[i*interval:(i+1)*interval]\n",
        "            cur_y = inter_y[i*interval:(i+1)*interval]\n",
        "        else:\n",
        "            cur_x = inter_x[i*interval:]\n",
        "            cur_y = inter_y[i*interval:]\n",
        "        cur_shifted_x, cur_shifted_y = resample_class_dist(cur_x, cur_y, cur_prob)\n",
        "        inter_x_labelshifted.append(cur_shifted_x)\n",
        "        inter_y_labelshifted.append(cur_shifted_y)\n",
        "    inter_x_ls = np.concatenate(inter_x_labelshifted, axis=0)\n",
        "    inter_y_ls = np.concatenate(inter_y_labelshifted, axis=0)\n",
        "    \n",
        "    final_px = np.random.dirichlet(np.array([alpha]*n_classes))\n",
        "    dist_store[n_batches,:] = final_px\n",
        "    # dir_inter_x and dir_inter_y are for comparison (directly self-train on target)\n",
        "    dir_inter_x_ls, dir_inter_y_ls = resample_class_dist(dir_inter_x, dir_inter_y, final_px)\n",
        "    \n",
        "    # shift all of trg_val_x, trg_val_y, trg_test_x, trg_test_y\n",
        "    trg_val_x_ls, trg_val_y_ls = resample_class_dist(trg_val_x, trg_val_y, final_px)\n",
        "    trg_test_x_ls, trg_test_y_ls = resample_class_dist(trg_test_x, trg_test_y, final_px)\n",
        "    return (src_tr_x, src_tr_y, src_val_x, src_val_y, inter_x_ls, inter_y_ls,\n",
        "            dir_inter_x_ls, dir_inter_y_ls, trg_val_x_ls, trg_val_y_ls, trg_test_x_ls, trg_test_y_ls, dist_store)\n",
        "\n"
      ],
      "outputs": [],
      "execution_count": 29,
      "metadata": {
        "jupyter": {
          "source_hidden": false,
          "outputs_hidden": false
        },
        "nteract": {
          "transient": {
            "deleting": false
          }
        },
        "gather": {
          "logged": 1635492271085
        }
      }
    },
    {
      "cell_type": "code",
      "source": [
        "# training functions\n",
        "def self_train_once(student, teacher, unsup_x, confidence_q=0.1, epochs=100, class_ws=None):\n",
        "    # Do one bootstrapping step on unsup_x, where pred_model is used to make predictions,\n",
        "    # and we use these predictions to update model.\n",
        "    logits = teacher.predict(np.concatenate([unsup_x]))\n",
        "    confidence = np.amax(logits, axis=1) - np.amin(logits, axis=1)\n",
        "    alpha = np.quantile(confidence, confidence_q)\n",
        "    indices = np.argwhere(confidence >= alpha)[:, 0]\n",
        "    preds = np.argmax(logits, axis=1)\n",
        "    preds = to_categorical(preds, num_classes=10)\n",
        "    # apply class weights\n",
        "    if class_ws is not None:\n",
        "        # get class ws dict\n",
        "        cw = {}\n",
        "        for i in range(10):\n",
        "            cw[i] = class_ws[i]\n",
        "        student.fit(unsup_x[indices], preds[indices], epochs=epochs, class_weight = cw, verbose=False)\n",
        "    else:\n",
        "        student.fit(unsup_x[indices], preds[indices], epochs=epochs, verbose=False)\n",
        "\n",
        "def soft_self_train_once(student, teacher, unsup_x, epochs=100):\n",
        "    probs = teacher.predict(np.concatenate([unsup_x]))\n",
        "    student.fit(unsup_x, probs, epochs=epochs, verbose=False)\n",
        "\n",
        "def self_train(teacher, unsup_x, confidence_q=0.1, epochs=100, repeats=1,\n",
        "               target_x=None, target_y=None, soft=False):\n",
        "    accuracies = []\n",
        "    student = teacher\n",
        "    for i in range(repeats):\n",
        "        if soft:\n",
        "            soft_self_train_once(student, teacher, unsup_x, epochs)\n",
        "        else:\n",
        "            self_train_once(student, teacher, unsup_x, confidence_q, epochs)\n",
        "        if target_x is not None and target_y is not None:\n",
        "            _, accuracy = student.evaluate(target_x, target_y, verbose=True)\n",
        "            accuracies.append(accuracy)\n",
        "        teacher = student\n",
        "    return accuracies, student\n",
        "\n",
        "def gradual_self_train(teacher, unsup_x, debug_y, interval, confidence_q=0.1,\n",
        "                       epochs=100, soft=False):\n",
        "    upper_idx = int(unsup_x.shape[0] / interval)\n",
        "    accuracies = []\n",
        "    student = teacher\n",
        "    for i in range(upper_idx):\n",
        "        cur_xs = unsup_x[interval*i:interval*(i+1)]\n",
        "        cur_ys = debug_y[interval*i:interval*(i+1)]\n",
        "        # _, student = self_train(\n",
        "        #     student_func, teacher, unsup_x, confidence_q, epochs, repeats=2)\n",
        "        if soft:\n",
        "            soft_self_train_once(student, teacher, cur_xs, epochs)\n",
        "        else:\n",
        "            self_train_once(student, teacher, cur_xs, confidence_q, epochs)\n",
        "        _, accuracy = student.evaluate(cur_xs, cur_ys)\n",
        "        accuracies.append(accuracy)\n",
        "        teacher = student\n",
        "    return accuracies, student\n",
        "\n",
        "def gradual_corrected_self_train(teacher, unsup_x, debug_y, interval, dist_store, confidence_q=0.1,\n",
        "                       epochs=100, soft=False):\n",
        "    upper_idx = int(unsup_x.shape[0] / interval)\n",
        "    accuracies = []\n",
        "    student = teacher\n",
        "    for i in range(upper_idx):\n",
        "        cur_xs = unsup_x[interval*i:interval*(i+1)]\n",
        "        cur_ys = debug_y[interval*i:interval*(i+1)]\n",
        "       \n",
        "        # weight by distance store\n",
        "        class_ws = dist_store[i+1,:]/dist_store[i,:]\n",
        "        # normalize\n",
        "        class_ws = class_ws / np.mean(class_ws)\n",
        "        \n",
        "        if soft:\n",
        "            soft_self_train_once(student, teacher, cur_xs, epochs)\n",
        "        else:\n",
        "            self_train_once(student, teacher, cur_xs, confidence_q, epochs, class_ws=class_ws)\n",
        "        _, accuracy = student.evaluate(cur_xs, cur_ys)\n",
        "        accuracies.append(accuracy)\n",
        "        teacher = student\n",
        "    return accuracies, student"
      ],
      "outputs": [],
      "execution_count": 30,
      "metadata": {
        "jupyter": {
          "source_hidden": false,
          "outputs_hidden": false
        },
        "nteract": {
          "transient": {
            "deleting": false
          }
        },
        "gather": {
          "logged": 1635492278244
        }
      }
    },
    {
      "cell_type": "code",
      "source": [
        "# model\n",
        "from keras.models import Sequential\n",
        "from keras.layers import Conv2D\n",
        "from keras.layers import MaxPooling2D\n",
        "from keras.layers import Dense\n",
        "from keras.layers import Flatten\n",
        "from tensorflow.keras.optimizers import SGD\n",
        "\n",
        "def simple_softmax_conv_model():\n",
        "    model = Sequential()\n",
        "\n",
        "    model.add(layers.Conv2D(32, (3,3), padding='same', activation='relu', input_shape=(32,32,3)))\n",
        "    model.add(layers.BatchNormalization())\n",
        "    model.add(layers.Conv2D(32, (3,3), padding='same', activation='relu'))\n",
        "    model.add(layers.BatchNormalization())\n",
        "    model.add(layers.MaxPooling2D(pool_size=(2,2)))\n",
        "    model.add(layers.Dropout(0.3))\n",
        "\n",
        "    model.add(layers.Conv2D(64, (3,3), padding='same', activation='relu'))\n",
        "    model.add(layers.BatchNormalization())\n",
        "    model.add(layers.Conv2D(64, (3,3), padding='same', activation='relu'))\n",
        "    model.add(layers.BatchNormalization())\n",
        "    model.add(layers.MaxPooling2D(pool_size=(2,2)))\n",
        "    model.add(layers.Dropout(0.5))\n",
        "\n",
        "    model.add(layers.Conv2D(128, (3,3), padding='same', activation='relu'))\n",
        "    model.add(layers.BatchNormalization())\n",
        "    model.add(layers.Conv2D(128, (3,3), padding='same', activation='relu'))\n",
        "    model.add(layers.BatchNormalization())\n",
        "    model.add(layers.MaxPooling2D(pool_size=(2,2)))\n",
        "    model.add(layers.Dropout(0.5))\n",
        "\n",
        "    model.add(layers.Flatten())\n",
        "    model.add(layers.Dense(128, activation='relu'))\n",
        "    model.add(layers.BatchNormalization())\n",
        "    model.add(layers.Dropout(0.5))\n",
        "    model.add(layers.Dense(10, activation='softmax')) \n",
        "    # compile model\n",
        "    \n",
        "    model.compile(optimizer='adam', loss=keras.losses.categorical_crossentropy, metrics=['accuracy'])\n",
        "    return model\n",
        "\n"
      ],
      "outputs": [],
      "execution_count": 31,
      "metadata": {
        "jupyter": {
          "source_hidden": false,
          "outputs_hidden": false
        },
        "nteract": {
          "transient": {
            "deleting": false
          }
        },
        "gather": {
          "logged": 1635492279453
        }
      }
    },
    {
      "cell_type": "code",
      "source": [
        "def rand_seed(seed):\n",
        "    np.random.seed(seed)\n",
        "    tf.compat.v1.set_random_seed(seed)\n",
        "\n",
        "def shuffle(xs, ys):\n",
        "    indices = list(range(len(xs)))\n",
        "    np.random.shuffle(indices)\n",
        "    return xs[indices], ys[indices]"
      ],
      "outputs": [],
      "execution_count": 24,
      "metadata": {
        "jupyter": {
          "source_hidden": false,
          "outputs_hidden": false
        },
        "nteract": {
          "transient": {
            "deleting": false
          }
        },
        "gather": {
          "logged": 1635446975398
        }
      }
    },
    {
      "cell_type": "code",
      "source": [
        "def exp(seed, label_shift, tweak_one_rho = None, dirichlet_alpha = None, interval=2000, epochs=30, conf_q=0.1, n_classes=10):\n",
        "    # get data\n",
        "    if label_shift == \"NO_LS\":\n",
        "        (src_tr_x, src_tr_y, src_val_x, src_val_y, inter_x, inter_y, dir_inter_x, dir_inter_y,\n",
        "         trg_eval_x, trg_eval_y, trg_test_x, trg_test_y) = rotated_cifar10_60_data_func_nols()\n",
        "        n_batches = int(inter_x.shape[0]/interval)\n",
        "        dist_store = np.ones((n_batches+1, n_classes))\n",
        "    elif label_shift == \"TWEAK_ONE\":\n",
        "        if tweak_one_rho is None:\n",
        "            print(\"no tweak one rho!\")\n",
        "            return\n",
        "        (src_tr_x, src_tr_y, src_val_x, src_val_y, inter_x, inter_y, dir_inter_x, dir_inter_y,\n",
        "         trg_eval_x, trg_eval_y, trg_test_x, trg_test_y) = rotated_cifar10_60_data_func_tweakone(interval, tweak_one_rho)\n",
        "    elif label_shift == \"DIRICHLET\":\n",
        "        if dirichlet_alpha is None:\n",
        "            print(\"no dirichlet alpha!\")\n",
        "            return\n",
        "        (src_tr_x, src_tr_y, src_val_x, src_val_y, inter_x, inter_y, dir_inter_x, dir_inter_y,\n",
        "         trg_eval_x, trg_eval_y, trg_test_x, trg_test_y, diststore) = rotated_cifar10_60_data_func_dirichlet(interval, dirichlet_alpha)\n",
        "        \n",
        "        print(diststore)\n",
        "    # set seed\n",
        "    rand_seed(seed)\n",
        "\n",
        "    # Train source model\n",
        "    source_model = simple_softmax_conv_model()\n",
        "    source_model.fit(src_tr_x, src_tr_y, epochs=epochs, verbose=False)\n",
        "    _, src_acc = source_model.evaluate(src_val_x, src_val_y)\n",
        "    _, srcmodel_acc = source_model.evaluate(trg_eval_x, trg_eval_y)\n",
        "\n",
        "    # corrected gradual self training (assuming we know label shift)\n",
        "    if label_shift != \"NO_LS\":\n",
        "        print(\"\\n\\n Gradual corrected self-training:\")\n",
        "        teacher = simple_softmax_conv_model()\n",
        "        teacher.set_weights(source_model.get_weights())\n",
        "        gradual_corrected_accuracies, student = gradual_corrected_self_train(teacher, inter_x, inter_y, interval, diststore, epochs=epochs,\n",
        "            confidence_q=conf_q)\n",
        "        _, acc = student.evaluate(trg_eval_x, trg_eval_y)\n",
        "        gradual_corrected_accuracies.append(acc)\n",
        "    \n",
        "    # Train directly on target (oracle)\n",
        "    print(\"\\n\\n Direct train on target:\")\n",
        "    target_model = simple_softmax_conv_model()\n",
        "    target_model.fit(dir_inter_x, dir_inter_y, epochs=epochs, verbose=False)\n",
        "    _, oracle_target_acc = target_model.evaluate(trg_eval_x, trg_eval_y)\n",
        "    \n",
        "    # comment this out bc we already know it's bad\n",
        "    '''\n",
        "    # self training on target (bad baseline)\n",
        "    NUM_REPEATS = 1 # they repeat more in the paper, but small difference\n",
        "    print(\"\\n\\n Direct self train on target:\")\n",
        "    teacher = simple_softmax_conv_model()\n",
        "    teacher.set_weights(source_model.get_weights())\n",
        "    target_accuracies, _ = self_train(teacher, dir_inter_x, epochs=epochs, target_x=trg_eval_x,\n",
        "            target_y=trg_eval_y, repeats=NUM_REPEATS, confidence_q=conf_q)\n",
        "    '''\n",
        "    # Gradual self-training (paper baseline)\n",
        "    print(\"\\n\\n Gradual self-training:\")\n",
        "    teacher = simple_softmax_conv_model()\n",
        "    teacher.set_weights(source_model.get_weights())\n",
        "    gradual_accuracies, student = gradual_self_train(teacher, inter_x, inter_y, interval, epochs=epochs,\n",
        "            confidence_q=conf_q)\n",
        "    _, acc = student.evaluate(trg_eval_x, trg_eval_y)\n",
        "    gradual_accuracies.append(acc)\n",
        "    \n",
        "\n",
        "    print(f\"Source model acc on target: {srcmodel_acc}\")\n",
        "    #print(f\"direct self train on target: {target_accuracies[-1]}\")\n",
        "    print(f\"gradual self training accuracies: {gradual_accuracies[-1]}\")\n",
        "    print(f\"gradual labelshift corrected self training accuracies: {gradual_corrected_accuracies[-1]}\")\n",
        "    print(f\"oracle accuracy: {oracle_target_acc}\")\n",
        "    return np.array([srcmodel_acc, gradual_accuracies[-1], gradual_corrected_accuracies[-1], oracle_target_acc]), diststore"
      ],
      "outputs": [],
      "execution_count": 40,
      "metadata": {
        "jupyter": {
          "source_hidden": false,
          "outputs_hidden": false
        },
        "nteract": {
          "transient": {
            "deleting": false
          }
        },
        "gather": {
          "logged": 1635615342939
        }
      }
    },
    {
      "cell_type": "code",
      "source": [
        "def exp_dirichlet(seed):\n",
        "    alpha = 1\n",
        "    res, diststore = exp(seed, \"DIRICHLET\", dirichlet_alpha=alpha)\n",
        "    return res, diststore\n",
        "    "
      ],
      "outputs": [],
      "execution_count": 36,
      "metadata": {
        "jupyter": {
          "source_hidden": false,
          "outputs_hidden": false
        },
        "nteract": {
          "transient": {
            "deleting": false
          }
        },
        "gather": {
          "logged": 1635522475917
        }
      }
    },
    {
      "cell_type": "code",
      "source": [
        "res_nols, diststore_nols = exp(1, \"NO_LS\")"
      ],
      "outputs": [
        {
          "output_type": "stream",
          "name": "stdout",
          "text": "32/32 [==============================] - 1s 19ms/step - loss: 0.5403 - accuracy: 0.8160\b\b\b\b\b\b\b\b\b\b\b\b\b\b\b\b\b\b\b\b\b\b\b\b\b\b\b\b\b\b\b\b\b\b\b\b\b\b\b\b\b\b\b\b\b\b\b\b\b\b\b\b\b\b\b\b\b\b\b\b\b\b\b\b\b\b\b\b\b\b\b\b\b\b\b\b\b\n63/63 [==============================] - 1s 19ms/step - loss: 1.0834 - accuracy: 0.6565\b\b\b\b\b\b\b\b\b\b\b\b\b\b\b\b\b\b\b\b\b\b\b\b\b\b\b\b\b\b\b\b\b\b\b\b\b\b\b\b\b\b\b\b\b\b\b\b\b\b\b\b\b\b\b\b\b\b\b\b\b\b\b\b\b\b\b\b\b\b\b\b\b\b\b\b\b\n\n\n Direct train on target:\n63/63 [==============================] - 1s 19ms/step - loss: 0.6280 - accuracy: 0.7895\b\b\b\b\b\b\b\b\b\b\b\b\b\b\b\b\b\b\b\b\b\b\b\b\b\b\b\b\b\b\b\b\b\b\b\b\b\b\b\b\b\b\b\b\b\b\b\b\b\b\b\b\b\b\b\b\b\b\b\b\b\b\b\b\b\b\b\b\b\b\b\b\b\b\b\b\b\b\b\n\n\n Gradual self-training:\n63/63 [==============================] - 1s 19ms/step - loss: 1.4671 - accuracy: 0.8125\b\b\b\b\b\b\b\b\b\b\b\b\b\b\b\b\b\b\b\b\b\b\b\b\b\b\b\b\b\b\b\b\b\b\b\b\b\b\b\b\b\b\b\b\b\b\b\b\b\b\b\b\b\b\b\b\b\b\b\b\b\b\b\b\b\b\b\b\b\b\b\b\b\b\b\b\b\b\b\n63/63 [==============================] - 1s 19ms/step - loss: 1.8732 - accuracy: 0.7735\b\b\b\b\b\b\b\b\b\b\b\b\b\b\b\b\b\b\b\b\b\b\b\b\b\b\b\b\b\b\b\b\b\b\b\b\b\b\b\b\b\b\b\b\b\b\b\b\b\b\b\b\b\b\b\b\b\b\b\b\b\b\b\b\b\b\b\b\b\b\b\b\b\b\b\b\b\n63/63 [==============================] - 1s 20ms/step - loss: 2.1594 - accuracy: 0.7465\b\b\b\b\b\b\b\b\b\b\b\b\b\b\b\b\b\b\b\b\b\b\b\b\b\b\b\b\b\b\b\b\b\b\b\b\b\b\b\b\b\b\b\b\b\b\b\b\b\b\b\b\b\b\b\b\b\b\b\b\b\b\b\b\b\b\b\b\b\b\b\b\b\b\b\b\b\n63/63 [==============================] - 2s 24ms/step - loss: 2.1640 - accuracy: 0.7295\b\b\b\b\b\b\b\b\b\b\b\b\b\b\b\b\b\b\b\b\b\b\b\b\b\b\b\b\b\b\b\b\b\b\b\b\b\b\b\b\b\b\b\b\b\b\b\b\b\b\b\b\b\b\b\b\b\b\b\b\b\b\b\b\b\b\b\b\b\b\b\b\b\b\b\b\b\n63/63 [==============================] - 2s 24ms/step - loss: 2.7694 - accuracy: 0.6755\b\b\b\b\b\b\b\b\b\b\b\b\b\b\b\b\b\b\b\b\b\b\b\b\b\b\b\b\b\b\b\b\b\b\b\b\b\b\b\b\b\b\b\b\b\b\b\b\b\b\b\b\b\b\b\b\b\b\b\b\b\b\b\b\b\b\b\b\b\b\b\b\b\b\b\b\b\n63/63 [==============================] - 2s 24ms/step - loss: 3.2317 - accuracy: 0.6290\b\b\b\b\b\b\b\b\b\b\b\b\b\b\b\b\b\b\b\b\b\b\b\b\b\b\b\b\b\b\b\b\b\b\b\b\b\b\b\b\b\b\b\b\b\b\b\b\b\b\b\b\b\b\b\b\b\b\b\b\b\b\b\b\b\b\b\b\b\b\b\b\b\b\b\b\b\n63/63 [==============================] - 1s 19ms/step - loss: 3.5151 - accuracy: 0.5875\b\b\b\b\b\b\b\b\b\b\b\b\b\b\b\b\b\b\b\b\b\b\b\b\b\b\b\b\b\b\b\b\b\b\b\b\b\b\b\b\b\b\b\b\b\b\b\b\b\b\b\b\b\b\b\b\b\b\b\b\b\b\b\b\b\b\b\b\b\b\b\b\b\b\b\b\b\n63/63 [==============================] - 1s 20ms/step - loss: 3.5848 - accuracy: 0.6170\b\b\b\b\b\b\b\b\b\b\b\b\b\b\b\b\b\b\b\b\b\b\b\b\b\b\b\b\b\b\b\b\b\b\b\b\b\b\b\b\b\b\b\b\b\b\b\b\b\b\b\b\b\b\b\b\b\b\b\b\b\b\b\b\b\b\b\b\b\b\b\b\b\b\b\b\b\n63/63 [==============================] - 1s 20ms/step - loss: 3.9859 - accuracy: 0.5730\b\b\b\b\b\b\b\b\b\b\b\b\b\b\b\b\b\b\b\b\b\b\b\b\b\b\b\b\b\b\b\b\b\b\b\b\b\b\b\b\b\b\b\b\b\b\b\b\b\b\b\b\b\b\b\b\b\b\b\b\b\b\b\b\b\b\b\b\b\b\b\b\b\b\b\b\b\n63/63 [==============================] - 1s 19ms/step - loss: 4.6440 - accuracy: 0.5315\b\b\b\b\b\b\b\b\b\b\b\b\b\b\b\b\b\b\b\b\b\b\b\b\b\b\b\b\b\b\b\b\b\b\b\b\b\b\b\b\b\b\b\b\b\b\b\b\b\b\b\b\b\b\b\b\b\b\b\b\b\b\b\b\b\b\b\b\b\b\b\b\b\b\b\b\b\n63/63 [==============================] - 1s 19ms/step - loss: 4.7907 - accuracy: 0.4995\b\b\b\b\b\b\b\b\b\b\b\b\b\b\b\b\b\b\b\b\b\b\b\b\b\b\b\b\b\b\b\b\b\b\b\b\b\b\b\b\b\b\b\b\b\b\b\b\b\b\b\b\b\b\b\b\b\b\b\b\b\b\b\b\b\b\b\b\b\b\b\b\b\b\b\b\b\n63/63 [==============================] - 1s 19ms/step - loss: 4.0248 - accuracy: 0.4895\b\b\b\b\b\b\b\b\b\b\b\b\b\b\b\b\b\b\b\b\b\b\b\b\b\b\b\b\b\b\b\b\b\b\b\b\b\b\b\b\b\b\b\b\b\b\b\b\b\b\b\b\b\b\b\b\b\b\b\b\b\b\b\b\b\b\b\b\b\b\b\b\b\b\b\b\b\nSource model acc on target: 0.656499981880188\ngradual self training accuracies: 0.4894999861717224\n"
        },
        {
          "output_type": "error",
          "ename": "UnboundLocalError",
          "evalue": "local variable 'gradual_corrected_accuracies' referenced before assignment",
          "traceback": [
            "\u001b[0;31m---------------------------------------------------------------------------\u001b[0m",
            "\u001b[0;31mUnboundLocalError\u001b[0m                         Traceback (most recent call last)",
            "\u001b[0;32m<ipython-input-42-ded642d25638>\u001b[0m in \u001b[0;36m<module>\u001b[0;34m\u001b[0m\n\u001b[0;32m----> 1\u001b[0;31m \u001b[0mres_nols\u001b[0m\u001b[0;34m,\u001b[0m \u001b[0mdiststore_nols\u001b[0m \u001b[0;34m=\u001b[0m \u001b[0mexp\u001b[0m\u001b[0;34m(\u001b[0m\u001b[0;36m1\u001b[0m\u001b[0;34m,\u001b[0m \u001b[0;34m\"NO_LS\"\u001b[0m\u001b[0;34m)\u001b[0m\u001b[0;34m\u001b[0m\u001b[0;34m\u001b[0m\u001b[0m\n\u001b[0m",
            "\u001b[0;32m<ipython-input-40-de4f08721794>\u001b[0m in \u001b[0;36mexp\u001b[0;34m(seed, label_shift, tweak_one_rho, dirichlet_alpha, interval, epochs, conf_q, n_classes)\u001b[0m\n\u001b[1;32m     68\u001b[0m     \u001b[0;31m#print(f\"direct self train on target: {target_accuracies[-1]}\")\u001b[0m\u001b[0;34m\u001b[0m\u001b[0;34m\u001b[0m\u001b[0;34m\u001b[0m\u001b[0m\n\u001b[1;32m     69\u001b[0m     \u001b[0mprint\u001b[0m\u001b[0;34m(\u001b[0m\u001b[0;34mf\"gradual self training accuracies: {gradual_accuracies[-1]}\"\u001b[0m\u001b[0;34m)\u001b[0m\u001b[0;34m\u001b[0m\u001b[0;34m\u001b[0m\u001b[0m\n\u001b[0;32m---> 70\u001b[0;31m     \u001b[0mprint\u001b[0m\u001b[0;34m(\u001b[0m\u001b[0;34mf\"gradual labelshift corrected self training accuracies: {gradual_corrected_accuracies[-1]}\"\u001b[0m\u001b[0;34m)\u001b[0m\u001b[0;34m\u001b[0m\u001b[0;34m\u001b[0m\u001b[0m\n\u001b[0m\u001b[1;32m     71\u001b[0m     \u001b[0mprint\u001b[0m\u001b[0;34m(\u001b[0m\u001b[0;34mf\"oracle accuracy: {oracle_target_acc}\"\u001b[0m\u001b[0;34m)\u001b[0m\u001b[0;34m\u001b[0m\u001b[0;34m\u001b[0m\u001b[0m\n\u001b[1;32m     72\u001b[0m     \u001b[0;32mreturn\u001b[0m \u001b[0mnp\u001b[0m\u001b[0;34m.\u001b[0m\u001b[0marray\u001b[0m\u001b[0;34m(\u001b[0m\u001b[0;34m[\u001b[0m\u001b[0msrcmodel_acc\u001b[0m\u001b[0;34m,\u001b[0m \u001b[0mgradual_accuracies\u001b[0m\u001b[0;34m[\u001b[0m\u001b[0;34m-\u001b[0m\u001b[0;36m1\u001b[0m\u001b[0;34m]\u001b[0m\u001b[0;34m,\u001b[0m \u001b[0mgradual_corrected_accuracies\u001b[0m\u001b[0;34m[\u001b[0m\u001b[0;34m-\u001b[0m\u001b[0;36m1\u001b[0m\u001b[0;34m]\u001b[0m\u001b[0;34m,\u001b[0m \u001b[0moracle_target_acc\u001b[0m\u001b[0;34m]\u001b[0m\u001b[0;34m)\u001b[0m\u001b[0;34m,\u001b[0m \u001b[0mdiststore\u001b[0m\u001b[0;34m\u001b[0m\u001b[0;34m\u001b[0m\u001b[0m\n",
            "\u001b[0;31mUnboundLocalError\u001b[0m: local variable 'gradual_corrected_accuracies' referenced before assignment"
          ]
        }
      ],
      "execution_count": 42,
      "metadata": {
        "jupyter": {
          "source_hidden": false,
          "outputs_hidden": false
        },
        "nteract": {
          "transient": {
            "deleting": false
          }
        }
      }
    },
    {
      "cell_type": "code",
      "source": [
        "res = np.zeros((10,5,4))\n",
        "diststore = np.zeros((10,12,10))\n",
        "outres = open(\"res.txt\", \"ab\")\n",
        "shifts = open(\"distr.txt\", \"ab\")\n",
        "for seed in range(10):\n",
        "    res[seed,:,:], diststore[seed,:,:] = exp_dirichlet(seed)\n",
        "    np.savetxt(outres, res)\n",
        "    np.savetxt(shifts, diststore)\n",
        "    "
      ],
      "outputs": [
        {
          "output_type": "stream",
          "name": "stdout",
          "text": "[[0.1        0.1        0.1        0.1        0.1        0.1\n  0.1        0.1        0.1        0.1       ]\n [0.00700645 0.06043347 0.32929996 0.23529926 0.00461334 0.03359347\n  0.17098958 0.13236306 0.00759186 0.01880956]\n [0.01028595 0.03045176 0.01304379 0.30528994 0.06382467 0.10863298\n  0.20726798 0.12752808 0.01207499 0.12159986]\n [0.05079989 0.04618178 0.00625702 0.1186449  0.28979544 0.11569137\n  0.18505634 0.14505836 0.01278833 0.02972657]\n [0.06133329 0.00073111 0.15418735 0.01424801 0.03676001 0.11951995\n  0.18556773 0.11898243 0.20954469 0.09912544]\n [0.04199468 0.01292804 0.40806039 0.08835986 0.10909165 0.01680818\n  0.07856265 0.00746664 0.18631029 0.05041762]\n [0.03284495 0.03081438 0.32030289 0.14763552 0.08224156 0.07279923\n  0.07821055 0.17299359 0.0201879  0.04196944]\n [0.03483795 0.29212746 0.0118311  0.045789   0.08352661 0.06417046\n  0.02855261 0.06022413 0.09174218 0.2871985 ]\n [0.17142503 0.08582685 0.01374764 0.04582466 0.2840542  0.13105664\n  0.09631424 0.00829355 0.08660777 0.07684941]\n [0.14960279 0.00391131 0.15986987 0.00863639 0.00547007 0.22549205\n  0.0427017  0.22158469 0.03408746 0.14864367]\n [0.01705271 0.03480982 0.09598548 0.14684632 0.00491029 0.26535746\n  0.08914016 0.19669934 0.05092416 0.09827426]\n [0.06710959 0.16533868 0.14313022 0.03370879 0.15086158 0.00567092\n  0.06332255 0.12055449 0.03971434 0.21058884]]\n32/32 [==============================] - 1s 19ms/step - loss: 0.4867 - accuracy: 0.8210\b\b\b\b\b\b\b\b\b\b\b\b\b\b\b\b\b\b\b\b\b\b\b\b\b\b\b\b\b\b\b\b\b\b\b\b\b\b\b\b\b\b\b\b\b\b\b\b\b\b\b\b\b\b\b\b\b\b\b\b\b\b\b\b\b\b\b\b\b\b\b\b\b\b\b\b\b\n63/63 [==============================] - 1s 19ms/step - loss: 1.1293 - accuracy: 0.6448\b\b\b\b\b\b\b\b\b\b\b\b\b\b\b\b\b\b\b\b\b\b\b\b\b\b\b\b\b\b\b\b\b\b\b\b\b\b\b\b\b\b\b\b\b\b\b\b\b\b\b\b\b\b\b\b\b\b\b\b\b\b\b\b\b\b\b\b\b\b\b\b\b\b\b\b\b\n\n\n Gradual corrected self-training:\n63/63 [==============================] - 1s 20ms/step - loss: 1.4265 - accuracy: 0.7975\b\b\b\b\b\b\b\b\b\b\b\b\b\b\b\b\b\b\b\b\b\b\b\b\b\b\b\b\b\b\b\b\b\b\b\b\b\b\b\b\b\b\b\b\b\b\b\b\b\b\b\b\b\b\b\b\b\b\b\b\b\b\b\b\b\b\b\b\b\b\b\b\b\b\b\b\b\b\b\n63/63 [==============================] - 1s 19ms/step - loss: 2.8873 - accuracy: 0.7120\b\b\b\b\b\b\b\b\b\b\b\b\b\b\b\b\b\b\b\b\b\b\b\b\b\b\b\b\b\b\b\b\b\b\b\b\b\b\b\b\b\b\b\b\b\b\b\b\b\b\b\b\b\b\b\b\b\b\b\b\b\b\b\b\b\b\b\b\b\b\b\b\b\b\b\b\b\n63/63 [==============================] - 1s 19ms/step - loss: 2.6458 - accuracy: 0.7165\b\b\b\b\b\b\b\b\b\b\b\b\b\b\b\b\b\b\b\b\b\b\b\b\b\b\b\b\b\b\b\b\b\b\b\b\b\b\b\b\b\b\b\b\b\b\b\b\b\b\b\b\b\b\b\b\b\b\b\b\b\b\b\b\b\b\b\b\b\b\b\b\b\b\b\b\b\n63/63 [==============================] - 1s 19ms/step - loss: 2.3188 - accuracy: 0.6960\b\b\b\b\b\b\b\b\b\b\b\b\b\b\b\b\b\b\b\b\b\b\b\b\b\b\b\b\b\b\b\b\b\b\b\b\b\b\b\b\b\b\b\b\b\b\b\b\b\b\b\b\b\b\b\b\b\b\b\b\b\b\b\b\b\b\b\b\b\b\b\b\b\b\b\b\b\n63/63 [==============================] - 1s 21ms/step - loss: 2.5842 - accuracy: 0.6545\b\b\b\b\b\b\b\b\b\b\b\b\b\b\b\b\b\b\b\b\b\b\b\b\b\b\b\b\b\b\b\b\b\b\b\b\b\b\b\b\b\b\b\b\b\b\b\b\b\b\b\b\b\b\b\b\b\b\b\b\b\b\b\b\b\b\b\b\b\b\b\b\b\b\b\b\b\n63/63 [==============================] - 1s 20ms/step - loss: 4.7165 - accuracy: 0.5365\b\b\b\b\b\b\b\b\b\b\b\b\b\b\b\b\b\b\b\b\b\b\b\b\b\b\b\b\b\b\b\b\b\b\b\b\b\b\b\b\b\b\b\b\b\b\b\b\b\b\b\b\b\b\b\b\b\b\b\b\b\b\b\b\b\b\b\b\b\b\b\b\b\b\b\b\b\n63/63 [==============================] - 1s 19ms/step - loss: 4.8593 - accuracy: 0.4920\b\b\b\b\b\b\b\b\b\b\b\b\b\b\b\b\b\b\b\b\b\b\b\b\b\b\b\b\b\b\b\b\b\b\b\b\b\b\b\b\b\b\b\b\b\b\b\b\b\b\b\b\b\b\b\b\b\b\b\b\b\b\b\b\b\b\b\b\b\b\b\b\b\b\b\b\b\n63/63 [==============================] - 1s 20ms/step - loss: 4.2439 - accuracy: 0.5850\b\b\b\b\b\b\b\b\b\b\b\b\b\b\b\b\b\b\b\b\b\b\b\b\b\b\b\b\b\b\b\b\b\b\b\b\b\b\b\b\b\b\b\b\b\b\b\b\b\b\b\b\b\b\b\b\b\b\b\b\b\b\b\b\b\b\b\b\b\b\b\b\b\b\b\b\b\n63/63 [==============================] - 1s 19ms/step - loss: 3.9783 - accuracy: 0.5370\b\b\b\b\b\b\b\b\b\b\b\b\b\b\b\b\b\b\b\b\b\b\b\b\b\b\b\b\b\b\b\b\b\b\b\b\b\b\b\b\b\b\b\b\b\b\b\b\b\b\b\b\b\b\b\b\b\b\b\b\b\b\b\b\b\b\b\b\b\b\b\b\b\b\b\b\b\n63/63 [==============================] - 1s 20ms/step - loss: 5.0154 - accuracy: 0.5440\b\b\b\b\b\b\b\b\b\b\b\b\b\b\b\b\b\b\b\b\b\b\b\b\b\b\b\b\b\b\b\b\b\b\b\b\b\b\b\b\b\b\b\b\b\b\b\b\b\b\b\b\b\b\b\b\b\b\b\b\b\b\b\b\b\b\b\b\b\b\b\b\b\b\b\b\b\n63/63 [==============================] - 1s 19ms/step - loss: 5.0532 - accuracy: 0.4394\b\b\b\b\b\b\b\b\b\b\b\b\b\b\b\b\b\b\b\b\b\b\b\b\b\b\b\b\b\b\b\b\b\b\b\b\b\b\b\b\b\b\b\b\b\b\b\b\b\b\b\b\b\b\b\b\b\b\b\b\b\b\b\b\b\b\b\b\b\b\b\b\b\b\b\b\b\n\n\n Direct train on target:\n63/63 [==============================] - 1s 20ms/step - loss: 0.6171 - accuracy: 0.8191\b\b\b\b\b\b\b\b\b\b\b\b\b\b\b\b\b\b\b\b\b\b\b\b\b\b\b\b\b\b\b\b\b\b\b\b\b\b\b\b\b\b\b\b\b\b\b\b\b\b\b\b\b\b\b\b\b\b\b\b\b\b\b\b\b\b\b\b\b\b\b\b\b\b\b\b\b\b\b\n\n\n Gradual self-training:\n63/63 [==============================] - 1s 19ms/step - loss: 1.7833 - accuracy: 0.8005\b\b\b\b\b\b\b\b\b\b\b\b\b\b\b\b\b\b\b\b\b\b\b\b\b\b\b\b\b\b\b\b\b\b\b\b\b\b\b\b\b\b\b\b\b\b\b\b\b\b\b\b\b\b\b\b\b\b\b\b\b\b\b\b\b\b\b\b\b\b\b\b\b\b\b\b\b\b\b\n63/63 [==============================] - 1s 20ms/step - loss: 4.8530 - accuracy: 0.5750\b\b\b\b\b\b\b\b\b\b\b\b\b\b\b\b\b\b\b\b\b\b\b\b\b\b\b\b\b\b\b\b\b\b\b\b\b\b\b\b\b\b\b\b\b\b\b\b\b\b\b\b\b\b\b\b\b\b\b\b\b\b\b\b\b\b\b\b\b\b\b\b\b\b\b\b\b\n63/63 [==============================] - 1s 19ms/step - loss: 4.0665 - accuracy: 0.6255\b\b\b\b\b\b\b\b\b\b\b\b\b\b\b\b\b\b\b\b\b\b\b\b\b\b\b\b\b\b\b\b\b\b\b\b\b\b\b\b\b\b\b\b\b\b\b\b\b\b\b\b\b\b\b\b\b\b\b\b\b\b\b\b\b\b\b\b\b\b\b\b\b\b\b\b\b\n63/63 [==============================] - 1s 21ms/step - loss: 4.3786 - accuracy: 0.5885\b\b\b\b\b\b\b\b\b\b\b\b\b\b\b\b\b\b\b\b\b\b\b\b\b\b\b\b\b\b\b\b\b\b\b\b\b\b\b\b\b\b\b\b\b\b\b\b\b\b\b\b\b\b\b\b\b\b\b\b\b\b\b\b\b\b\b\b\b\b\b\b\b\b\b\b\b\n63/63 [==============================] - 1s 20ms/step - loss: 4.9131 - accuracy: 0.5615\b\b\b\b\b\b\b\b\b\b\b\b\b\b\b\b\b\b\b\b\b\b\b\b\b\b\b\b\b\b\b\b\b\b\b\b\b\b\b\b\b\b\b\b\b\b\b\b\b\b\b\b\b\b\b\b\b\b\b\b\b\b\b\b\b\b\b\b\b\b\b\b\b\b\b\b\b\n63/63 [==============================] - 1s 20ms/step - loss: 9.0643 - accuracy: 0.3005\b\b\b\b\b\b\b\b\b\b\b\b\b\b\b\b\b\b\b\b\b\b\b\b\b\b\b\b\b\b\b\b\b\b\b\b\b\b\b\b\b\b\b\b\b\b\b\b\b\b\b\b\b\b\b\b\b\b\b\b\b\b\b\b\b\b\b\b\b\b\b\b\b\b\b\b\b\n63/63 [==============================] - 1s 20ms/step - loss: 7.6520 - accuracy: 0.3545\b\b\b\b\b\b\b\b\b\b\b\b\b\b\b\b\b\b\b\b\b\b\b\b\b\b\b\b\b\b\b\b\b\b\b\b\b\b\b\b\b\b\b\b\b\b\b\b\b\b\b\b\b\b\b\b\b\b\b\b\b\b\b\b\b\b\b\b\b\b\b\b\b\b\b\b\b\n63/63 [==============================] - 1s 20ms/step - loss: 5.4306 - accuracy: 0.5410\b\b\b\b\b\b\b\b\b\b\b\b\b\b\b\b\b\b\b\b\b\b\b\b\b\b\b\b\b\b\b\b\b\b\b\b\b\b\b\b\b\b\b\b\b\b\b\b\b\b\b\b\b\b\b\b\b\b\b\b\b\b\b\b\b\b\b\b\b\b\b\b\b\b\b\b\b\n63/63 [==============================] - 1s 20ms/step - loss: 8.2486 - accuracy: 0.3620\b\b\b\b\b\b\b\b\b\b\b\b\b\b\b\b\b\b\b\b\b\b\b\b\b\b\b\b\b\b\b\b\b\b\b\b\b\b\b\b\b\b\b\b\b\b\b\b\b\b\b\b\b\b\b\b\b\b\b\b\b\b\b\b\b\b\b\b\b\b\b\b\b\b\b\b\b\n63/63 [==============================] - 1s 20ms/step - loss: 8.0020 - accuracy: 0.4125\b\b\b\b\b\b\b\b\b\b\b\b\b\b\b\b\b\b\b\b\b\b\b\b\b\b\b\b\b\b\b\b\b\b\b\b\b\b\b\b\b\b\b\b\b\b\b\b\b\b\b\b\b\b\b\b\b\b\b\b\b\b\b\b\b\b\b\b\b\b\b\b\b\b\b\b\b\n63/63 [==============================] - 1s 20ms/step - loss: 7.2837 - accuracy: 0.3477\b\b\b\b\b\b\b\b\b\b\b\b\b\b\b\b\b\b\b\b\b\b\b\b\b\b\b\b\b\b\b\b\b\b\b\b\b\b\b\b\b\b\b\b\b\b\b\b\b\b\b\b\b\b\b\b\b\b\b\b\b\b\b\b\b\b\b\b\b\b\b\b\b\b\b\b\b\nSource model acc on target: 0.6447895765304565\ngradual self training accuracies: 0.34769538044929504\ngradual labelshift corrected self training accuracies: 0.4393787682056427\noracle accuracy: 0.8191382884979248\n[[0.1        0.1        0.1        0.1        0.1        0.1\n  0.1        0.1        0.1        0.1       ]\n [0.00604349 0.25335201 0.05301115 0.00597513 0.04674046 0.36805581\n  0.02920471 0.03638512 0.14531938 0.05591274]\n [0.15211179 0.08286829 0.00856449 0.05791115 0.00146977 0.04083149\n  0.07690441 0.10112055 0.19185827 0.28635979]\n [0.15852446 0.03230555 0.15949149 0.00798222 0.16205945 0.06165608\n  0.16126255 0.06280126 0.14600123 0.04791569]\n [0.09112684 0.00738836 0.31656241 0.11816761 0.00765995 0.0310807\n  0.29855043 0.01450194 0.02724989 0.08771188]\n [0.16968671 0.13350109 0.04565197 0.05806304 0.07303902 0.19301284\n  0.08152665 0.13236455 0.10362397 0.00953017]\n [0.07905709 0.204672   0.25748024 0.08516459 0.16364666 0.03049783\n  0.00641299 0.00247307 0.02395149 0.14664405]\n [0.01576753 0.02402645 0.16650773 0.04376037 0.24359862 0.02092026\n  0.06908647 0.11449364 0.05276466 0.24907426]\n [0.01196922 0.0269583  0.32855019 0.03224827 0.06243445 0.22770839\n  0.20640483 0.02683412 0.00172731 0.07516491]\n [0.35622981 0.3823622  0.08042141 0.02094472 0.04315496 0.03873157\n  0.00593639 0.04292898 0.01540698 0.01388298]\n [0.20611985 0.1040654  0.21363285 0.05041363 0.06320221 0.14874149\n  0.11673304 0.03751736 0.02799575 0.03157842]\n [0.10847656 0.05897905 0.07852597 0.12938906 0.04888212 0.31626309\n  0.05885651 0.06198163 0.12137127 0.01727473]]\n32/32 [==============================] - 1s 19ms/step - loss: 0.5146 - accuracy: 0.8230\b\b\b\b\b\b\b\b\b\b\b\b\b\b\b\b\b\b\b\b\b\b\b\b\b\b\b\b\b\b\b\b\b\b\b\b\b\b\b\b\b\b\b\b\b\b\b\b\b\b\b\b\b\b\b\b\b\b\b\b\b\b\b\b\b\b\b\b\b\b\b\b\b\b\b\b\b\n63/63 [==============================] - 1s 20ms/step - loss: 0.9472 - accuracy: 0.6889\b\b\b\b\b\b\b\b\b\b\b\b\b\b\b\b\b\b\b\b\b\b\b\b\b\b\b\b\b\b\b\b\b\b\b\b\b\b\b\b\b\b\b\b\b\b\b\b\b\b\b\b\b\b\b\b\b\b\b\b\b\b\b\b\b\b\b\b\b\b\b\b\b\b\b\b\b\n\n\n Gradual corrected self-training:\n63/63 [==============================] - 1s 19ms/step - loss: 1.3488 - accuracy: 0.8070\b\b\b\b\b\b\b\b\b\b\b\b\b\b\b\b\b\b\b\b\b\b\b\b\b\b\b\b\b\b\b\b\b\b\b\b\b\b\b\b\b\b\b\b\b\b\b\b\b\b\b\b\b\b\b\b\b\b\b\b\b\b\b\b\b\b\b\b\b\b\b\b\b\b\b\b\b\b\b\n63/63 [==============================] - 1s 20ms/step - loss: 1.5330 - accuracy: 0.8160\b\b\b\b\b\b\b\b\b\b\b\b\b\b\b\b\b\b\b\b\b\b\b\b\b\b\b\b\b\b\b\b\b\b\b\b\b\b\b\b\b\b\b\b\b\b\b\b\b\b\b\b\b\b\b\b\b\b\b\b\b\b\b\b\b\b\b\b\b\b\b\b\b\b\b\b\b\n63/63 [==============================] - 1s 19ms/step - loss: 1.7110 - accuracy: 0.7705\b\b\b\b\b\b\b\b\b\b\b\b\b\b\b\b\b\b\b\b\b\b\b\b\b\b\b\b\b\b\b\b\b\b\b\b\b\b\b\b\b\b\b\b\b\b\b\b\b\b\b\b\b\b\b\b\b\b\b\b\b\b\b\b\b\b\b\b\b\b\b\b\b\b\b\b\b\n63/63 [==============================] - 1s 20ms/step - loss: 2.5760 - accuracy: 0.6840\b\b\b\b\b\b\b\b\b\b\b\b\b\b\b\b\b\b\b\b\b\b\b\b\b\b\b\b\b\b\b\b\b\b\b\b\b\b\b\b\b\b\b\b\b\b\b\b\b\b\b\b\b\b\b\b\b\b\b\b\b\b\b\b\b\b\b\b\b\b\b\b\b\b\b\b\b\n63/63 [==============================] - 1s 21ms/step - loss: 4.2343 - accuracy: 0.5740\b\b\b\b\b\b\b\b\b\b\b\b\b\b\b\b\b\b\b\b\b\b\b\b\b\b\b\b\b\b\b\b\b\b\b\b\b\b\b\b\b\b\b\b\b\b\b\b\b\b\b\b\b\b\b\b\b\b\b\b\b\b\b\b\b\b\b\b\b\b\b\b\b\b\b\b\b\n63/63 [==============================] - 1s 20ms/step - loss: 3.5347 - accuracy: 0.5610\b\b\b\b\b\b\b\b\b\b\b\b\b\b\b\b\b\b\b\b\b\b\b\b\b\b\b\b\b\b\b\b\b\b\b\b\b\b\b\b\b\b\b\b\b\b\b\b\b\b\b\b\b\b\b\b\b\b\b\b\b\b\b\b\b\b\b\b\b\b\b\b\b\b\b\b\b\n63/63 [==============================] - 1s 20ms/step - loss: 5.1864 - accuracy: 0.4815\b\b\b\b\b\b\b\b\b\b\b\b\b\b\b\b\b\b\b\b\b\b\b\b\b\b\b\b\b\b\b\b\b\b\b\b\b\b\b\b\b\b\b\b\b\b\b\b\b\b\b\b\b\b\b\b\b\b\b\b\b\b\b\b\b\b\b\b\b\b\b\b\b\b\b\b\b\n63/63 [==============================] - 1s 20ms/step - loss: 4.2372 - accuracy: 0.5675\b\b\b\b\b\b\b\b\b\b\b\b\b\b\b\b\b\b\b\b\b\b\b\b\b\b\b\b\b\b\b\b\b\b\b\b\b\b\b\b\b\b\b\b\b\b\b\b\b\b\b\b\b\b\b\b\b\b\b\b\b\b\b\b\b\b\b\b\b\b\b\b\b\b\b\b\b\n63/63 [==============================] - 1s 19ms/step - loss: 5.8039 - accuracy: 0.3635\b\b\b\b\b\b\b\b\b\b\b\b\b\b\b\b\b\b\b\b\b\b\b\b\b\b\b\b\b\b\b\b\b\b\b\b\b\b\b\b\b\b\b\b\b\b\b\b\b\b\b\b\b\b\b\b\b\b\b\b\b\b\b\b\b\b\b\b\b\b\b\b\b\b\b\b\b\n63/63 [==============================] - 1s 20ms/step - loss: 6.0503 - accuracy: 0.4500\b\b\b\b\b\b\b\b\b\b\b\b\b\b\b\b\b\b\b\b\b\b\b\b\b\b\b\b\b\b\b\b\b\b\b\b\b\b\b\b\b\b\b\b\b\b\b\b\b\b\b\b\b\b\b\b\b\b\b\b\b\b\b\b\b\b\b\b\b\b\b\b\b\b\b\b\b\n63/63 [==============================] - 1s 19ms/step - loss: 7.1019 - accuracy: 0.2599\b\b\b\b\b\b\b\b\b\b\b\b\b\b\b\b\b\b\b\b\b\b\b\b\b\b\b\b\b\b\b\b\b\b\b\b\b\b\b\b\b\b\b\b\b\b\b\b\b\b\b\b\b\b\b\b\b\b\b\b\b\b\b\b\b\b\b\b\b\b\b\b\b\b\b\b\b\n\n\n Direct train on target:\n63/63 [==============================] - 1s 19ms/step - loss: 0.7999 - accuracy: 0.7652\b\b\b\b\b\b\b\b\b\b\b\b\b\b\b\b\b\b\b\b\b\b\b\b\b\b\b\b\b\b\b\b\b\b\b\b\b\b\b\b\b\b\b\b\b\b\b\b\b\b\b\b\b\b\b\b\b\b\b\b\b\b\b\b\b\b\b\b\b\b\b\b\b\b\b\b\b\b\b\n\n\n Gradual self-training:\n63/63 [==============================] - 1s 19ms/step - loss: 1.4973 - accuracy: 0.8300\b\b\b\b\b\b\b\b\b\b\b\b\b\b\b\b\b\b\b\b\b\b\b\b\b\b\b\b\b\b\b\b\b\b\b\b\b\b\b\b\b\b\b\b\b\b\b\b\b\b\b\b\b\b\b\b\b\b\b\b\b\b\b\b\b\b\b\b\b\b\b\b\b\b\b\b\b\b\b\n63/63 [==============================] - 1s 20ms/step - loss: 2.4997 - accuracy: 0.7645\b\b\b\b\b\b\b\b\b\b\b\b\b\b\b\b\b\b\b\b\b\b\b\b\b\b\b\b\b\b\b\b\b\b\b\b\b\b\b\b\b\b\b\b\b\b\b\b\b\b\b\b\b\b\b\b\b\b\b\b\b\b\b\b\b\b\b\b\b\b\b\b\b\b\b\b\b\n63/63 [==============================] - 1s 20ms/step - loss: 2.6099 - accuracy: 0.7490\b\b\b\b\b\b\b\b\b\b\b\b\b\b\b\b\b\b\b\b\b\b\b\b\b\b\b\b\b\b\b\b\b\b\b\b\b\b\b\b\b\b\b\b\b\b\b\b\b\b\b\b\b\b\b\b\b\b\b\b\b\b\b\b\b\b\b\b\b\b\b\b\b\b\b\b\b\n63/63 [==============================] - 1s 19ms/step - loss: 4.2495 - accuracy: 0.6150\b\b\b\b\b\b\b\b\b\b\b\b\b\b\b\b\b\b\b\b\b\b\b\b\b\b\b\b\b\b\b\b\b\b\b\b\b\b\b\b\b\b\b\b\b\b\b\b\b\b\b\b\b\b\b\b\b\b\b\b\b\b\b\b\b\b\b\b\b\b\b\b\b\b\b\b\b\n63/63 [==============================] - 1s 19ms/step - loss: 5.6673 - accuracy: 0.5385\b\b\b\b\b\b\b\b\b\b\b\b\b\b\b\b\b\b\b\b\b\b\b\b\b\b\b\b\b\b\b\b\b\b\b\b\b\b\b\b\b\b\b\b\b\b\b\b\b\b\b\b\b\b\b\b\b\b\b\b\b\b\b\b\b\b\b\b\b\b\b\b\b\b\b\b\b\n63/63 [==============================] - 1s 19ms/step - loss: 5.1228 - accuracy: 0.5515\b\b\b\b\b\b\b\b\b\b\b\b\b\b\b\b\b\b\b\b\b\b\b\b\b\b\b\b\b\b\b\b\b\b\b\b\b\b\b\b\b\b\b\b\b\b\b\b\b\b\b\b\b\b\b\b\b\b\b\b\b\b\b\b\b\b\b\b\b\b\b\b\b\b\b\b\b\n63/63 [==============================] - 1s 20ms/step - loss: 6.2756 - accuracy: 0.4745\b\b\b\b\b\b\b\b\b\b\b\b\b\b\b\b\b\b\b\b\b\b\b\b\b\b\b\b\b\b\b\b\b\b\b\b\b\b\b\b\b\b\b\b\b\b\b\b\b\b\b\b\b\b\b\b\b\b\b\b\b\b\b\b\b\b\b\b\b\b\b\b\b\b\b\b\b\n63/63 [==============================] - 1s 21ms/step - loss: 5.7112 - accuracy: 0.5325\b\b\b\b\b\b\b\b\b\b\b\b\b\b\b\b\b\b\b\b\b\b\b\b\b\b\b\b\b\b\b\b\b\b\b\b\b\b\b\b\b\b\b\b\b\b\b\b\b\b\b\b\b\b\b\b\b\b\b\b\b\b\b\b\b\b\b\b\b\b\b\b\b\b\b\b\b\n63/63 [==============================] - 1s 20ms/step - loss: 8.4999 - accuracy: 0.3630\b\b\b\b\b\b\b\b\b\b\b\b\b\b\b\b\b\b\b\b\b\b\b\b\b\b\b\b\b\b\b\b\b\b\b\b\b\b\b\b\b\b\b\b\b\b\b\b\b\b\b\b\b\b\b\b\b\b\b\b\b\b\b\b\b\b\b\b\b\b\b\b\b\b\b\b\b\n63/63 [==============================] - 1s 19ms/step - loss: 7.1623 - accuracy: 0.4585\b\b\b\b\b\b\b\b\b\b\b\b\b\b\b\b\b\b\b\b\b\b\b\b\b\b\b\b\b\b\b\b\b\b\b\b\b\b\b\b\b\b\b\b\b\b\b\b\b\b\b\b\b\b\b\b\b\b\b\b\b\b\b\b\b\b\b\b\b\b\b\b\b\b\b\b\b\n63/63 [==============================] - 1s 19ms/step - loss: 7.5234 - accuracy: 0.2669\b\b\b\b\b\b\b\b\b\b\b\b\b\b\b\b\b\b\b\b\b\b\b\b\b\b\b\b\b\b\b\b\b\b\b\b\b\b\b\b\b\b\b\b\b\b\b\b\b\b\b\b\b\b\b\b\b\b\b\b\b\b\b\b\b\b\b\b\b\b\b\b\b\b\b\b\b\nSource model acc on target: 0.6889111995697021\ngradual self training accuracies: 0.26693427562713623\ngradual labelshift corrected self training accuracies: 0.2599096894264221\noracle accuracy: 0.7651781439781189\n[[0.1        0.1        0.1        0.1        0.1        0.1\n  0.1        0.1        0.1        0.1       ]\n [0.00700645 0.06043347 0.32929996 0.23529926 0.00461334 0.03359347\n  0.17098958 0.13236306 0.00759186 0.01880956]\n [0.01028595 0.03045176 0.01304379 0.30528994 0.06382467 0.10863298\n  0.20726798 0.12752808 0.01207499 0.12159986]\n [0.05079989 0.04618178 0.00625702 0.1186449  0.28979544 0.11569137\n  0.18505634 0.14505836 0.01278833 0.02972657]\n [0.06133329 0.00073111 0.15418735 0.01424801 0.03676001 0.11951995\n  0.18556773 0.11898243 0.20954469 0.09912544]\n [0.04199468 0.01292804 0.40806039 0.08835986 0.10909165 0.01680818\n  0.07856265 0.00746664 0.18631029 0.05041762]\n [0.03284495 0.03081438 0.32030289 0.14763552 0.08224156 0.07279923\n  0.07821055 0.17299359 0.0201879  0.04196944]\n [0.03483795 0.29212746 0.0118311  0.045789   0.08352661 0.06417046\n  0.02855261 0.06022413 0.09174218 0.2871985 ]\n [0.17142503 0.08582685 0.01374764 0.04582466 0.2840542  0.13105664\n  0.09631424 0.00829355 0.08660777 0.07684941]\n [0.14960279 0.00391131 0.15986987 0.00863639 0.00547007 0.22549205\n  0.0427017  0.22158469 0.03408746 0.14864367]\n [0.01705271 0.03480982 0.09598548 0.14684632 0.00491029 0.26535746\n  0.08914016 0.19669934 0.05092416 0.09827426]\n [0.06710959 0.16533868 0.14313022 0.03370879 0.15086158 0.00567092\n  0.06332255 0.12055449 0.03971434 0.21058884]]\n32/32 [==============================] - 1s 19ms/step - loss: 0.5310 - accuracy: 0.8210\b\b\b\b\b\b\b\b\b\b\b\b\b\b\b\b\b\b\b\b\b\b\b\b\b\b\b\b\b\b\b\b\b\b\b\b\b\b\b\b\b\b\b\b\b\b\b\b\b\b\b\b\b\b\b\b\b\b\b\b\b\b\b\b\b\b\b\b\b\b\b\b\b\b\b\b\b\n63/63 [==============================] - 1s 20ms/step - loss: 1.1121 - accuracy: 0.6293\b\b\b\b\b\b\b\b\b\b\b\b\b\b\b\b\b\b\b\b\b\b\b\b\b\b\b\b\b\b\b\b\b\b\b\b\b\b\b\b\b\b\b\b\b\b\b\b\b\b\b\b\b\b\b\b\b\b\b\b\b\b\b\b\b\b\b\b\b\b\b\b\b\b\b\b\b\n\n\n Gradual corrected self-training:\n63/63 [==============================] - 2s 20ms/step - loss: 1.6188 - accuracy: 0.7855\b\b\b\b\b\b\b\b\b\b\b\b\b\b\b\b\b\b\b\b\b\b\b\b\b\b\b\b\b\b\b\b\b\b\b\b\b\b\b\b\b\b\b\b\b\b\b\b\b\b\b\b\b\b\b\b\b\b\b\b\b\b\b\b\b\b\b\b\b\b\b\b\b\b\b\b\b\b\b\n63/63 [==============================] - 1s 19ms/step - loss: 3.0290 - accuracy: 0.6805\b\b\b\b\b\b\b\b\b\b\b\b\b\b\b\b\b\b\b\b\b\b\b\b\b\b\b\b\b\b\b\b\b\b\b\b\b\b\b\b\b\b\b\b\b\b\b\b\b\b\b\b\b\b\b\b\b\b\b\b\b\b\b\b\b\b\b\b\b\b\b\b\b\b\b\b\b\n63/63 [==============================] - 1s 19ms/step - loss: 3.1371 - accuracy: 0.6885\b\b\b\b\b\b\b\b\b\b\b\b\b\b\b\b\b\b\b\b\b\b\b\b\b\b\b\b\b\b\b\b\b\b\b\b\b\b\b\b\b\b\b\b\b\b\b\b\b\b\b\b\b\b\b\b\b\b\b\b\b\b\b\b\b\b\b\b\b\b\b\b\b\b\b\b\b\n63/63 [==============================] - 1s 19ms/step - loss: 3.4176 - accuracy: 0.4635\b\b\b\b\b\b\b\b\b\b\b\b\b\b\b\b\b\b\b\b\b\b\b\b\b\b\b\b\b\b\b\b\b\b\b\b\b\b\b\b\b\b\b\b\b\b\b\b\b\b\b\b\b\b\b\b\b\b\b\b\b\b\b\b\b\b\b\b\b\b\b\b\b\b\b\b\b\n63/63 [==============================] - 1s 20ms/step - loss: 4.7369 - accuracy: 0.4630\b\b\b\b\b\b\b\b\b\b\b\b\b\b\b\b\b\b\b\b\b\b\b\b\b\b\b\b\b\b\b\b\b\b\b\b\b\b\b\b\b\b\b\b\b\b\b\b\b\b\b\b\b\b\b\b\b\b\b\b\b\b\b\b\b\b\b\b\b\b\b\b\b\b\b\b\b\n63/63 [==============================] - 1s 19ms/step - loss: 8.7788 - accuracy: 0.2020\b\b\b\b\b\b\b\b\b\b\b\b\b\b\b\b\b\b\b\b\b\b\b\b\b\b\b\b\b\b\b\b\b\b\b\b\b\b\b\b\b\b\b\b\b\b\b\b\b\b\b\b\b\b\b\b\b\b\b\b\b\b\b\b\b\b\b\b\b\b\b\b\b\b\b\b\b\n63/63 [==============================] - 1s 19ms/step - loss: 8.8180 - accuracy: 0.2480\b\b\b\b\b\b\b\b\b\b\b\b\b\b\b\b\b\b\b\b\b\b\b\b\b\b\b\b\b\b\b\b\b\b\b\b\b\b\b\b\b\b\b\b\b\b\b\b\b\b\b\b\b\b\b\b\b\b\b\b\b\b\b\b\b\b\b\b\b\b\b\b\b\b\b\b\b\n63/63 [==============================] - 1s 20ms/step - loss: 8.6657 - accuracy: 0.3530\b\b\b\b\b\b\b\b\b\b\b\b\b\b\b\b\b\b\b\b\b\b\b\b\b\b\b\b\b\b\b\b\b\b\b\b\b\b\b\b\b\b\b\b\b\b\b\b\b\b\b\b\b\b\b\b\b\b\b\b\b\b\b\b\b\b\b\b\b\b\b\b\b\b\b\b\b\n63/63 [==============================] - 1s 20ms/step - loss: 11.2589 - accuracy: 0.2115\b\b\b\b\b\b\b\b\b\b\b\b\b\b\b\b\b\b\b\b\b\b\b\b\b\b\b\b\b\b\b\b\b\b\b\b\b\b\b\b\b\b\b\b\b\b\b\b\b\b\b\b\b\b\b\b\b\b\b\b\b\b\b\b\b\b\b\b\b\b\b\b\b\b\b\b\b\b\n63/63 [==============================] - 2s 24ms/step - loss: 10.0831 - accuracy: 0.2690\b\b\b\b\b\b\b\b\b\b\b\b\b\b\b\b\b\b\b\b\b\b\b\b\b\b\b\b\b\b\b\b\b\b\b\b\b\b\b\b\b\b\b\b\b\b\b\b\b\b\b\b\b\b\b\b\b\b\b\b\b\b\b\b\b\b\b\b\b\b\b\b\b\b\b\b\b\b\n63/63 [==============================] - 2s 24ms/step - loss: 10.1575 - accuracy: 0.2761\b\b\b\b\b\b\b\b\b\b\b\b\b\b\b\b\b\b\b\b\b\b\b\b\b\b\b\b\b\b\b\b\b\b\b\b\b\b\b\b\b\b\b\b\b\b\b\b\b\b\b\b\b\b\b\b\b\b\b\b\b\b\b\b\b\b\b\b\b\b\b\b\b\b\b\b\b\b\n\n\n Direct train on target:\n63/63 [==============================] - 1s 20ms/step - loss: 0.6905 - accuracy: 0.8151\b\b\b\b\b\b\b\b\b\b\b\b\b\b\b\b\b\b\b\b\b\b\b\b\b\b\b\b\b\b\b\b\b\b\b\b\b\b\b\b\b\b\b\b\b\b\b\b\b\b\b\b\b\b\b\b\b\b\b\b\b\b\b\b\b\b\b\b\b\b\b\b\b\b\b\b\b\b\b\n\n\n Gradual self-training:\n63/63 [==============================] - 1s 19ms/step - loss: 1.9673 - accuracy: 0.8010\b\b\b\b\b\b\b\b\b\b\b\b\b\b\b\b\b\b\b\b\b\b\b\b\b\b\b\b\b\b\b\b\b\b\b\b\b\b\b\b\b\b\b\b\b\b\b\b\b\b\b\b\b\b\b\b\b\b\b\b\b\b\b\b\b\b\b\b\b\b\b\b\b\b\b\b\b\b\b\n63/63 [==============================] - 1s 20ms/step - loss: 3.5691 - accuracy: 0.6905\b\b\b\b\b\b\b\b\b\b\b\b\b\b\b\b\b\b\b\b\b\b\b\b\b\b\b\b\b\b\b\b\b\b\b\b\b\b\b\b\b\b\b\b\b\b\b\b\b\b\b\b\b\b\b\b\b\b\b\b\b\b\b\b\b\b\b\b\b\b\b\b\b\b\b\b\b\n63/63 [==============================] - 1s 20ms/step - loss: 3.8386 - accuracy: 0.6720\b\b\b\b\b\b\b\b\b\b\b\b\b\b\b\b\b\b\b\b\b\b\b\b\b\b\b\b\b\b\b\b\b\b\b\b\b\b\b\b\b\b\b\b\b\b\b\b\b\b\b\b\b\b\b\b\b\b\b\b\b\b\b\b\b\b\b\b\b\b\b\b\b\b\b\b\b\n63/63 [==============================] - 1s 20ms/step - loss: 3.4915 - accuracy: 0.6760\b\b\b\b\b\b\b\b\b\b\b\b\b\b\b\b\b\b\b\b\b\b\b\b\b\b\b\b\b\b\b\b\b\b\b\b\b\b\b\b\b\b\b\b\b\b\b\b\b\b\b\b\b\b\b\b\b\b\b\b\b\b\b\b\b\b\b\b\b\b\b\b\b\b\b\b\b\n63/63 [==============================] - 1s 20ms/step - loss: 4.2709 - accuracy: 0.6105\b\b\b\b\b\b\b\b\b\b\b\b\b\b\b\b\b\b\b\b\b\b\b\b\b\b\b\b\b\b\b\b\b\b\b\b\b\b\b\b\b\b\b\b\b\b\b\b\b\b\b\b\b\b\b\b\b\b\b\b\b\b\b\b\b\b\b\b\b\b\b\b\b\b\b\b\b\n63/63 [==============================] - 1s 20ms/step - loss: 6.8839 - accuracy: 0.4440\b\b\b\b\b\b\b\b\b\b\b\b\b\b\b\b\b\b\b\b\b\b\b\b\b\b\b\b\b\b\b\b\b\b\b\b\b\b\b\b\b\b\b\b\b\b\b\b\b\b\b\b\b\b\b\b\b\b\b\b\b\b\b\b\b\b\b\b\b\b\b\b\b\b\b\b\b\n63/63 [==============================] - 1s 20ms/step - loss: 6.9630 - accuracy: 0.4155\b\b\b\b\b\b\b\b\b\b\b\b\b\b\b\b\b\b\b\b\b\b\b\b\b\b\b\b\b\b\b\b\b\b\b\b\b\b\b\b\b\b\b\b\b\b\b\b\b\b\b\b\b\b\b\b\b\b\b\b\b\b\b\b\b\b\b\b\b\b\b\b\b\b\b\b\b\n63/63 [==============================] - 1s 19ms/step - loss: 6.0069 - accuracy: 0.4680\b\b\b\b\b\b\b\b\b\b\b\b\b\b\b\b\b\b\b\b\b\b\b\b\b\b\b\b\b\b\b\b\b\b\b\b\b\b\b\b\b\b\b\b\b\b\b\b\b\b\b\b\b\b\b\b\b\b\b\b\b\b\b\b\b\b\b\b\b\b\b\b\b\b\b\b\b\n63/63 [==============================] - 1s 19ms/step - loss: 8.0627 - accuracy: 0.3095\b\b\b\b\b\b\b\b\b\b\b\b\b\b\b\b\b\b\b\b\b\b\b\b\b\b\b\b\b\b\b\b\b\b\b\b\b\b\b\b\b\b\b\b\b\b\b\b\b\b\b\b\b\b\b\b\b\b\b\b\b\b\b\b\b\b\b\b\b\b\b\b\b\b\b\b\b\n63/63 [==============================] - 1s 19ms/step - loss: 9.2671 - accuracy: 0.2730\b\b\b\b\b\b\b\b\b\b\b\b\b\b\b\b\b\b\b\b\b\b\b\b\b\b\b\b\b\b\b\b\b\b\b\b\b\b\b\b\b\b\b\b\b\b\b\b\b\b\b\b\b\b\b\b\b\b\b\b\b\b\b\b\b\b\b\b\b\b\b\b\b\b\b\b\b\n63/63 [==============================] - 1s 19ms/step - loss: 7.6109 - accuracy: 0.2600\b\b\b\b\b\b\b\b\b\b\b\b\b\b\b\b\b\b\b\b\b\b\b\b\b\b\b\b\b\b\b\b\b\b\b\b\b\b\b\b\b\b\b\b\b\b\b\b\b\b\b\b\b\b\b\b\b\b\b\b\b\b\b\b\b\b\b\b\b\b\b\b\b\b\b\b\b\nSource model acc on target: 0.6292585134506226\ngradual self training accuracies: 0.26002004742622375\ngradual labelshift corrected self training accuracies: 0.2760521173477173\noracle accuracy: 0.8151302337646484\n[[0.1        0.1        0.1        0.1        0.1        0.1\n  0.1        0.1        0.1        0.1       ]\n [0.13150515 0.028524   0.04834869 0.00689075 0.08846319 0.00547044\n  0.07325175 0.37159044 0.19656679 0.0493888 ]\n [0.07085076 0.03193419 0.18073279 0.09725087 0.11988221 0.06473313\n  0.2127324  0.03270408 0.17927308 0.00990649]\n [0.0045578  0.08871396 0.1260698  0.10667847 0.0185831  0.01709059\n  0.23230528 0.19644349 0.13457477 0.07498274]\n [0.05469429 0.00209758 0.04565041 0.21398046 0.06318474 0.00562335\n  0.27996776 0.17426817 0.11401807 0.04651518]\n [0.23941028 0.12355085 0.04282713 0.08858592 0.04396057 0.13840065\n  0.12625803 0.1580031  0.00357421 0.03542927]\n [0.04652317 0.03327139 0.02757515 0.07918652 0.13877076 0.36564197\n  0.03865812 0.20409785 0.03865522 0.02761985]\n [0.09679343 0.19457857 0.01429407 0.07331413 0.00733626 0.11422879\n  0.00734758 0.31978834 0.15173189 0.02058695]\n [0.36229183 0.12284457 0.04281713 0.00429993 0.0661912  0.13895195\n  0.04278974 0.1465733  0.02919715 0.0440432 ]\n [0.06874183 0.04868    0.14050314 0.13917186 0.02849935 0.19495768\n  0.18943499 0.14451451 0.03500985 0.01048679]\n [0.10598655 0.18065012 0.00594744 0.05318492 0.04215313 0.08388277\n  0.02226167 0.14546152 0.34259691 0.01787498]\n [0.11722707 0.03631113 0.02492881 0.2054554  0.11557851 0.00993892\n  0.09210133 0.15530656 0.19460599 0.04854627]]\n32/32 [==============================] - 1s 20ms/step - loss: 0.6006 - accuracy: 0.8150\b\b\b\b\b\b\b\b\b\b\b\b\b\b\b\b\b\b\b\b\b\b\b\b\b\b\b\b\b\b\b\b\b\b\b\b\b\b\b\b\b\b\b\b\b\b\b\b\b\b\b\b\b\b\b\b\b\b\b\b\b\b\b\b\b\b\b\b\b\b\b\b\b\b\b\b\b\n63/63 [==============================] - 1s 19ms/step - loss: 1.1796 - accuracy: 0.6175\b\b\b\b\b\b\b\b\b\b\b\b\b\b\b\b\b\b\b\b\b\b\b\b\b\b\b\b\b\b\b\b\b\b\b\b\b\b\b\b\b\b\b\b\b\b\b\b\b\b\b\b\b\b\b\b\b\b\b\b\b\b\b\b\b\b\b\b\b\b\b\b\b\b\b\b\b\n\n\n Gradual corrected self-training:\n63/63 [==============================] - 1s 19ms/step - loss: 1.7753 - accuracy: 0.7605\b\b\b\b\b\b\b\b\b\b\b\b\b\b\b\b\b\b\b\b\b\b\b\b\b\b\b\b\b\b\b\b\b\b\b\b\b\b\b\b\b\b\b\b\b\b\b\b\b\b\b\b\b\b\b\b\b\b\b\b\b\b\b\b\b\b\b\b\b\b\b\b\b\b\b\b\b\b\b\n63/63 [==============================] - 1s 20ms/step - loss: 1.1112 - accuracy: 0.8395\b\b\b\b\b\b\b\b\b\b\b\b\b\b\b\b\b\b\b\b\b\b\b\b\b\b\b\b\b\b\b\b\b\b\b\b\b\b\b\b\b\b\b\b\b\b\b\b\b\b\b\b\b\b\b\b\b\b\b\b\b\b\b\b\b\b\b\b\b\b\b\b\b\b\b\b\b\n63/63 [==============================] - 1s 20ms/step - loss: 2.7280 - accuracy: 0.6710\b\b\b\b\b\b\b\b\b\b\b\b\b\b\b\b\b\b\b\b\b\b\b\b\b\b\b\b\b\b\b\b\b\b\b\b\b\b\b\b\b\b\b\b\b\b\b\b\b\b\b\b\b\b\b\b\b\b\b\b\b\b\b\b\b\b\b\b\b\b\b\b\b\b\b\b\b\n63/63 [==============================] - 1s 20ms/step - loss: 3.0837 - accuracy: 0.6875\b\b\b\b\b\b\b\b\b\b\b\b\b\b\b\b\b\b\b\b\b\b\b\b\b\b\b\b\b\b\b\b\b\b\b\b\b\b\b\b\b\b\b\b\b\b\b\b\b\b\b\b\b\b\b\b\b\b\b\b\b\b\b\b\b\b\b\b\b\b\b\b\b\b\b\b\b\n63/63 [==============================] - 1s 20ms/step - loss: 3.6498 - accuracy: 0.6290\b\b\b\b\b\b\b\b\b\b\b\b\b\b\b\b\b\b\b\b\b\b\b\b\b\b\b\b\b\b\b\b\b\b\b\b\b\b\b\b\b\b\b\b\b\b\b\b\b\b\b\b\b\b\b\b\b\b\b\b\b\b\b\b\b\b\b\b\b\b\b\b\b\b\b\b\b\n63/63 [==============================] - 1s 20ms/step - loss: 4.8176 - accuracy: 0.4965\b\b\b\b\b\b\b\b\b\b\b\b\b\b\b\b\b\b\b\b\b\b\b\b\b\b\b\b\b\b\b\b\b\b\b\b\b\b\b\b\b\b\b\b\b\b\b\b\b\b\b\b\b\b\b\b\b\b\b\b\b\b\b\b\b\b\b\b\b\b\b\b\b\b\b\b\b\n63/63 [==============================] - 1s 20ms/step - loss: 5.0014 - accuracy: 0.4875\b\b\b\b\b\b\b\b\b\b\b\b\b\b\b\b\b\b\b\b\b\b\b\b\b\b\b\b\b\b\b\b\b\b\b\b\b\b\b\b\b\b\b\b\b\b\b\b\b\b\b\b\b\b\b\b\b\b\b\b\b\b\b\b\b\b\b\b\b\b\b\b\b\b\b\b\b\n63/63 [==============================] - 1s 19ms/step - loss: 5.5196 - accuracy: 0.5360\b\b\b\b\b\b\b\b\b\b\b\b\b\b\b\b\b\b\b\b\b\b\b\b\b\b\b\b\b\b\b\b\b\b\b\b\b\b\b\b\b\b\b\b\b\b\b\b\b\b\b\b\b\b\b\b\b\b\b\b\b\b\b\b\b\b\b\b\b\b\b\b\b\b\b\b\b\n63/63 [==============================] - 2s 25ms/step - loss: 6.8836 - accuracy: 0.4065\b\b\b\b\b\b\b\b\b\b\b\b\b\b\b\b\b\b\b\b\b\b\b\b\b\b\b\b\b\b\b\b\b\b\b\b\b\b\b\b\b\b\b\b\b\b\b\b\b\b\b\b\b\b\b\b\b\b\b\b\b\b\b\b\b\b\b\b\b\b\b\b\b\b\b\b\b\n63/63 [==============================] - 2s 28ms/step - loss: 7.4107 - accuracy: 0.3865\b\b\b\b\b\b\b\b\b\b\b\b\b\b\b\b\b\b\b\b\b\b\b\b\b\b\b\b\b\b\b\b\b\b\b\b\b\b\b\b\b\b\b\b\b\b\b\b\b\b\b\b\b\b\b\b\b\b\b\b\b\b\b\b\b\b\b\b\b\b\b\b\b\b\b\b\b\n63/63 [==============================] - 2s 26ms/step - loss: 6.3933 - accuracy: 0.4045\b\b\b\b\b\b\b\b\b\b\b\b\b\b\b\b\b\b\b\b\b\b\b\b\b\b\b\b\b\b\b\b\b\b\b\b\b\b\b\b\b\b\b\b\b\b\b\b\b\b\b\b\b\b\b\b\b\b\b\b\b\b\b\b\b\b\b\b\b\b\b\b\b\b\b\b\b\n\n\n Direct train on target:\n63/63 [==============================] - 1s 19ms/step - loss: 0.6118 - accuracy: 0.8261\b\b\b\b\b\b\b\b\b\b\b\b\b\b\b\b\b\b\b\b\b\b\b\b\b\b\b\b\b\b\b\b\b\b\b\b\b\b\b\b\b\b\b\b\b\b\b\b\b\b\b\b\b\b\b\b\b\b\b\b\b\b\b\b\b\b\b\b\b\b\b\b\b\b\b\b\b\b\b\n\n\n Gradual self-training:\n63/63 [==============================] - 1s 20ms/step - loss: 1.9927 - accuracy: 0.7830\b\b\b\b\b\b\b\b\b\b\b\b\b\b\b\b\b\b\b\b\b\b\b\b\b\b\b\b\b\b\b\b\b\b\b\b\b\b\b\b\b\b\b\b\b\b\b\b\b\b\b\b\b\b\b\b\b\b\b\b\b\b\b\b\b\b\b\b\b\b\b\b\b\b\b\b\b\b\b\n63/63 [==============================] - 1s 20ms/step - loss: 2.2076 - accuracy: 0.7870\b\b\b\b\b\b\b\b\b\b\b\b\b\b\b\b\b\b\b\b\b\b\b\b\b\b\b\b\b\b\b\b\b\b\b\b\b\b\b\b\b\b\b\b\b\b\b\b\b\b\b\b\b\b\b\b\b\b\b\b\b\b\b\b\b\b\b\b\b\b\b\b\b\b\b\b\b\n63/63 [==============================] - 1s 20ms/step - loss: 3.9278 - accuracy: 0.6135\b\b\b\b\b\b\b\b\b\b\b\b\b\b\b\b\b\b\b\b\b\b\b\b\b\b\b\b\b\b\b\b\b\b\b\b\b\b\b\b\b\b\b\b\b\b\b\b\b\b\b\b\b\b\b\b\b\b\b\b\b\b\b\b\b\b\b\b\b\b\b\b\b\b\b\b\b\n63/63 [==============================] - 1s 20ms/step - loss: 3.3256 - accuracy: 0.6800\b\b\b\b\b\b\b\b\b\b\b\b\b\b\b\b\b\b\b\b\b\b\b\b\b\b\b\b\b\b\b\b\b\b\b\b\b\b\b\b\b\b\b\b\b\b\b\b\b\b\b\b\b\b\b\b\b\b\b\b\b\b\b\b\b\b\b\b\b\b\b\b\b\b\b\b\b\n63/63 [==============================] - 1s 20ms/step - loss: 4.7477 - accuracy: 0.6155\b\b\b\b\b\b\b\b\b\b\b\b\b\b\b\b\b\b\b\b\b\b\b\b\b\b\b\b\b\b\b\b\b\b\b\b\b\b\b\b\b\b\b\b\b\b\b\b\b\b\b\b\b\b\b\b\b\b\b\b\b\b\b\b\b\b\b\b\b\b\b\b\b\b\b\b\b\n63/63 [==============================] - 1s 19ms/step - loss: 5.7304 - accuracy: 0.5090\b\b\b\b\b\b\b\b\b\b\b\b\b\b\b\b\b\b\b\b\b\b\b\b\b\b\b\b\b\b\b\b\b\b\b\b\b\b\b\b\b\b\b\b\b\b\b\b\b\b\b\b\b\b\b\b\b\b\b\b\b\b\b\b\b\b\b\b\b\b\b\b\b\b\b\b\b\n63/63 [==============================] - 1s 20ms/step - loss: 8.0452 - accuracy: 0.3775\b\b\b\b\b\b\b\b\b\b\b\b\b\b\b\b\b\b\b\b\b\b\b\b\b\b\b\b\b\b\b\b\b\b\b\b\b\b\b\b\b\b\b\b\b\b\b\b\b\b\b\b\b\b\b\b\b\b\b\b\b\b\b\b\b\b\b\b\b\b\b\b\b\b\b\b\b\n63/63 [==============================] - 1s 19ms/step - loss: 6.6524 - accuracy: 0.5060\b\b\b\b\b\b\b\b\b\b\b\b\b\b\b\b\b\b\b\b\b\b\b\b\b\b\b\b\b\b\b\b\b\b\b\b\b\b\b\b\b\b\b\b\b\b\b\b\b\b\b\b\b\b\b\b\b\b\b\b\b\b\b\b\b\b\b\b\b\b\b\b\b\b\b\b\b\n63/63 [==============================] - 2s 24ms/step - loss: 7.7853 - accuracy: 0.4175\b\b\b\b\b\b\b\b\b\b\b\b\b\b\b\b\b\b\b\b\b\b\b\b\b\b\b\b\b\b\b\b\b\b\b\b\b\b\b\b\b\b\b\b\b\b\b\b\b\b\b\b\b\b\b\b\b\b\b\b\b\b\b\b\b\b\b\b\b\b\b\b\b\b\b\b\b\n63/63 [==============================] - 2s 25ms/step - loss: 9.6329 - accuracy: 0.3475\b\b\b\b\b\b\b\b\b\b\b\b\b\b\b\b\b\b\b\b\b\b\b\b\b\b\b\b\b\b\b\b\b\b\b\b\b\b\b\b\b\b\b\b\b\b\b\b\b\b\b\b\b\b\b\b\b\b\b\b\b\b\b\b\b\b\b\b\b\b\b\b\b\b\b\b\b\n63/63 [==============================] - 2s 25ms/step - loss: 7.7739 - accuracy: 0.3373\b\b\b\b\b\b\b\b\b\b\b\b\b\b\b\b\b\b\b\b\b\b\b\b\b\b\b\b\b\b\b\b\b\b\b\b\b\b\b\b\b\b\b\b\b\b\b\b\b\b\b\b\b\b\b\b\b\b\b\b\b\b\b\b\b\b\b\b\b\b\b\b\b\b\b\b\b\nSource model acc on target: 0.6175438761711121\ngradual self training accuracies: 0.33734336495399475\ngradual labelshift corrected self training accuracies: 0.4045112729072571\noracle accuracy: 0.826065182685852\n[[1.00000000e-01 1.00000000e-01 1.00000000e-01 1.00000000e-01\n  1.00000000e-01 1.00000000e-01 1.00000000e-01 1.00000000e-01\n  1.00000000e-01 1.00000000e-01]\n [1.28243450e-01 2.88788505e-01 5.21839618e-02 6.44477551e-02\n  2.19024126e-01 1.45181494e-02 6.16396640e-02 6.79679514e-02\n  2.51317761e-02 7.80546617e-02]\n [3.38917980e-01 4.27941554e-02 1.26551634e-01 1.07480945e-01\n  1.82086726e-02 7.82446672e-03 5.44277079e-02 1.10358905e-01\n  1.14365074e-01 7.90704586e-02]\n [1.70535751e-01 2.17476686e-01 5.11042015e-02 3.83320825e-02\n  6.09697079e-02 1.74596143e-02 2.36367149e-02 1.71610109e-01\n  6.95569681e-04 2.48179563e-01]\n [1.45197072e-01 1.10450167e-01 1.26965830e-01 1.97763451e-01\n  3.70710832e-02 5.29209665e-02 5.38843517e-02 4.25500416e-02\n  2.08077269e-01 2.51197671e-02]\n [1.14704547e-01 9.48048997e-02 5.81847256e-02 1.20607468e-01\n  1.55327398e-01 1.41586803e-02 9.94754998e-02 5.74384229e-02\n  2.23978339e-01 6.13200185e-02]\n [1.14567135e-01 2.85679674e-02 2.95895697e-02 2.42741296e-01\n  1.20590230e-01 1.30206622e-01 1.65173450e-02 1.24903342e-01\n  4.12593269e-02 1.51057167e-01]\n [2.67475136e-03 4.92080237e-02 2.34796242e-03 3.08463475e-01\n  1.85425626e-01 1.32158248e-01 3.46415249e-02 9.18683984e-02\n  1.54023173e-01 3.91888172e-02]\n [1.35530015e-01 2.62678873e-01 1.07982011e-01 3.77306046e-02\n  5.43037677e-02 4.23835114e-02 8.85194989e-02 7.71241799e-02\n  4.88792531e-02 1.44868286e-01]\n [4.23404752e-02 2.64379921e-02 3.27959501e-02 2.58368821e-02\n  1.78708064e-01 2.47369056e-01 1.48118992e-01 6.77867643e-02\n  1.58592102e-01 7.20137215e-02]\n [5.36601585e-02 3.10610614e-01 1.26445514e-01 3.84799603e-02\n  3.02406762e-03 2.67898803e-03 6.68615088e-02 1.71704905e-01\n  2.05887736e-01 2.06465475e-02]\n [1.92287641e-01 9.94640541e-02 1.72313552e-01 1.47536129e-01\n  1.64089321e-01 3.50811105e-02 6.90260557e-02 9.60399063e-02\n  1.65206496e-04 2.39970240e-02]]\n32/32 [==============================] - 1s 20ms/step - loss: 0.6211 - accuracy: 0.8020\b\b\b\b\b\b\b\b\b\b\b\b\b\b\b\b\b\b\b\b\b\b\b\b\b\b\b\b\b\b\b\b\b\b\b\b\b\b\b\b\b\b\b\b\b\b\b\b\b\b\b\b\b\b\b\b\b\b\b\b\b\b\b\b\b\b\b\b\b\b\b\b\b\b\b\b\b\n63/63 [==============================] - 1s 19ms/step - loss: 1.1239 - accuracy: 0.6488\b\b\b\b\b\b\b\b\b\b\b\b\b\b\b\b\b\b\b\b\b\b\b\b\b\b\b\b\b\b\b\b\b\b\b\b\b\b\b\b\b\b\b\b\b\b\b\b\b\b\b\b\b\b\b\b\b\b\b\b\b\b\b\b\b\b\b\b\b\b\b\b\b\b\b\b\b\n\n\n Gradual corrected self-training:\n63/63 [==============================] - 1s 20ms/step - loss: 1.6595 - accuracy: 0.8085\b\b\b\b\b\b\b\b\b\b\b\b\b\b\b\b\b\b\b\b\b\b\b\b\b\b\b\b\b\b\b\b\b\b\b\b\b\b\b\b\b\b\b\b\b\b\b\b\b\b\b\b\b\b\b\b\b\b\b\b\b\b\b\b\b\b\b\b\b\b\b\b\b\b\b\b\b\b\b\n63/63 [==============================] - 1s 19ms/step - loss: 1.9214 - accuracy: 0.7800\b\b\b\b\b\b\b\b\b\b\b\b\b\b\b\b\b\b\b\b\b\b\b\b\b\b\b\b\b\b\b\b\b\b\b\b\b\b\b\b\b\b\b\b\b\b\b\b\b\b\b\b\b\b\b\b\b\b\b\b\b\b\b\b\b\b\b\b\b\b\b\b\b\b\b\b\b\n63/63 [==============================] - 1s 19ms/step - loss: 2.5994 - accuracy: 0.6980\b\b\b\b\b\b\b\b\b\b\b\b\b\b\b\b\b\b\b\b\b\b\b\b\b\b\b\b\b\b\b\b\b\b\b\b\b\b\b\b\b\b\b\b\b\b\b\b\b\b\b\b\b\b\b\b\b\b\b\b\b\b\b\b\b\b\b\b\b\b\b\b\b\b\b\b\b\n63/63 [==============================] - 1s 20ms/step - loss: 1.9840 - accuracy: 0.7620\b\b\b\b\b\b\b\b\b\b\b\b\b\b\b\b\b\b\b\b\b\b\b\b\b\b\b\b\b\b\b\b\b\b\b\b\b\b\b\b\b\b\b\b\b\b\b\b\b\b\b\b\b\b\b\b\b\b\b\b\b\b\b\b\b\b\b\b\b\b\b\b\b\b\b\b\b\n63/63 [==============================] - 1s 20ms/step - loss: 3.3905 - accuracy: 0.6790\b\b\b\b\b\b\b\b\b\b\b\b\b\b\b\b\b\b\b\b\b\b\b\b\b\b\b\b\b\b\b\b\b\b\b\b\b\b\b\b\b\b\b\b\b\b\b\b\b\b\b\b\b\b\b\b\b\b\b\b\b\b\b\b\b\b\b\b\b\b\b\b\b\b\b\b\b\n63/63 [==============================] - 1s 19ms/step - loss: 3.5240 - accuracy: 0.6250\b\b\b\b\b\b\b\b\b\b\b\b\b\b\b\b\b\b\b\b\b\b\b\b\b\b\b\b\b\b\b\b\b\b\b\b\b\b\b\b\b\b\b\b\b\b\b\b\b\b\b\b\b\b\b\b\b\b\b\b\b\b\b\b\b\b\b\b\b\b\b\b\b\b\b\b\b\n63/63 [==============================] - 1s 20ms/step - loss: 4.6371 - accuracy: 0.5605\b\b\b\b\b\b\b\b\b\b\b\b\b\b\b\b\b\b\b\b\b\b\b\b\b\b\b\b\b\b\b\b\b\b\b\b\b\b\b\b\b\b\b\b\b\b\b\b\b\b\b\b\b\b\b\b\b\b\b\b\b\b\b\b\b\b\b\b\b\b\b\b\b\b\b\b\b\n63/63 [==============================] - 2s 24ms/step - loss: 3.6985 - accuracy: 0.5925\b\b\b\b\b\b\b\b\b\b\b\b\b\b\b\b\b\b\b\b\b\b\b\b\b\b\b\b\b\b\b\b\b\b\b\b\b\b\b\b\b\b\b\b\b\b\b\b\b\b\b\b\b\b\b\b\b\b\b\b\b\b\b\b\b\b\b\b\b\b\b\b\b\b\b\b\b\n63/63 [==============================] - 2s 25ms/step - loss: 4.9288 - accuracy: 0.5715\b\b\b\b\b\b\b\b\b\b\b\b\b\b\b\b\b\b\b\b\b\b\b\b\b\b\b\b\b\b\b\b\b\b\b\b\b\b\b\b\b\b\b\b\b\b\b\b\b\b\b\b\b\b\b\b\b\b\b\b\b\b\b\b\b\b\b\b\b\b\b\b\b\b\b\b\b\n63/63 [==============================] - 2s 24ms/step - loss: 7.3241 - accuracy: 0.3645\b\b\b\b\b\b\b\b\b\b\b\b\b\b\b\b\b\b\b\b\b\b\b\b\b\b\b\b\b\b\b\b\b\b\b\b\b\b\b\b\b\b\b\b\b\b\b\b\b\b\b\b\b\b\b\b\b\b\b\b\b\b\b\b\b\b\b\b\b\b\b\b\b\b\b\b\b\n63/63 [==============================] - 1s 23ms/step - loss: 5.7252 - accuracy: 0.3492\b\b\b\b\b\b\b\b\b\b\b\b\b\b\b\b\b\b\b\b\b\b\b\b\b\b\b\b\b\b\b\b\b\b\b\b\b\b\b\b\b\b\b\b\b\b\b\b\b\b\b\b\b\b\b\b\b\b\b\b\b\b\b\b\b\b\b\b\b\b\b\b\b\b\b\b\b\n\n\n Direct train on target:\n63/63 [==============================] - 1s 19ms/step - loss: 0.8675 - accuracy: 0.7415\b\b\b\b\b\b\b\b\b\b\b\b\b\b\b\b\b\b\b\b\b\b\b\b\b\b\b\b\b\b\b\b\b\b\b\b\b\b\b\b\b\b\b\b\b\b\b\b\b\b\b\b\b\b\b\b\b\b\b\b\b\b\b\b\b\b\b\b\b\b\b\b\b\b\b\b\b\b\b\n\n\n Gradual self-training:\n63/63 [==============================] - 1s 20ms/step - loss: 1.7536 - accuracy: 0.8060\b\b\b\b\b\b\b\b\b\b\b\b\b\b\b\b\b\b\b\b\b\b\b\b\b\b\b\b\b\b\b\b\b\b\b\b\b\b\b\b\b\b\b\b\b\b\b\b\b\b\b\b\b\b\b\b\b\b\b\b\b\b\b\b\b\b\b\b\b\b\b\b\b\b\b\b\b\b\b\n63/63 [==============================] - 1s 19ms/step - loss: 2.3551 - accuracy: 0.7855\b\b\b\b\b\b\b\b\b\b\b\b\b\b\b\b\b\b\b\b\b\b\b\b\b\b\b\b\b\b\b\b\b\b\b\b\b\b\b\b\b\b\b\b\b\b\b\b\b\b\b\b\b\b\b\b\b\b\b\b\b\b\b\b\b\b\b\b\b\b\b\b\b\b\b\b\b\n63/63 [==============================] - 1s 20ms/step - loss: 3.6812 - accuracy: 0.6945\b\b\b\b\b\b\b\b\b\b\b\b\b\b\b\b\b\b\b\b\b\b\b\b\b\b\b\b\b\b\b\b\b\b\b\b\b\b\b\b\b\b\b\b\b\b\b\b\b\b\b\b\b\b\b\b\b\b\b\b\b\b\b\b\b\b\b\b\b\b\b\b\b\b\b\b\b\n63/63 [==============================] - 1s 19ms/step - loss: 2.8569 - accuracy: 0.7270\b\b\b\b\b\b\b\b\b\b\b\b\b\b\b\b\b\b\b\b\b\b\b\b\b\b\b\b\b\b\b\b\b\b\b\b\b\b\b\b\b\b\b\b\b\b\b\b\b\b\b\b\b\b\b\b\b\b\b\b\b\b\b\b\b\b\b\b\b\b\b\b\b\b\b\b\b\n63/63 [==============================] - 1s 19ms/step - loss: 3.7065 - accuracy: 0.6755\b\b\b\b\b\b\b\b\b\b\b\b\b\b\b\b\b\b\b\b\b\b\b\b\b\b\b\b\b\b\b\b\b\b\b\b\b\b\b\b\b\b\b\b\b\b\b\b\b\b\b\b\b\b\b\b\b\b\b\b\b\b\b\b\b\b\b\b\b\b\b\b\b\b\b\b\b\n63/63 [==============================] - 1s 20ms/step - loss: 3.6386 - accuracy: 0.6715\b\b\b\b\b\b\b\b\b\b\b\b\b\b\b\b\b\b\b\b\b\b\b\b\b\b\b\b\b\b\b\b\b\b\b\b\b\b\b\b\b\b\b\b\b\b\b\b\b\b\b\b\b\b\b\b\b\b\b\b\b\b\b\b\b\b\b\b\b\b\b\b\b\b\b\b\b\n63/63 [==============================] - 1s 19ms/step - loss: 3.7684 - accuracy: 0.6580\b\b\b\b\b\b\b\b\b\b\b\b\b\b\b\b\b\b\b\b\b\b\b\b\b\b\b\b\b\b\b\b\b\b\b\b\b\b\b\b\b\b\b\b\b\b\b\b\b\b\b\b\b\b\b\b\b\b\b\b\b\b\b\b\b\b\b\b\b\b\b\b\b\b\b\b\b\n63/63 [==============================] - 2s 24ms/step - loss: 3.6500 - accuracy: 0.6695\b\b\b\b\b\b\b\b\b\b\b\b\b\b\b\b\b\b\b\b\b\b\b\b\b\b\b\b\b\b\b\b\b\b\b\b\b\b\b\b\b\b\b\b\b\b\b\b\b\b\b\b\b\b\b\b\b\b\b\b\b\b\b\b\b\b\b\b\b\b\b\b\b\b\b\b\b\n63/63 [==============================] - 2s 25ms/step - loss: 4.4285 - accuracy: 0.6135\b\b\b\b\b\b\b\b\b\b\b\b\b\b\b\b\b\b\b\b\b\b\b\b\b\b\b\b\b\b\b\b\b\b\b\b\b\b\b\b\b\b\b\b\b\b\b\b\b\b\b\b\b\b\b\b\b\b\b\b\b\b\b\b\b\b\b\b\b\b\b\b\b\b\b\b\b\n63/63 [==============================] - 3s 47ms/step - loss: 5.7542 - accuracy: 0.4670\b\b\b\b\b\b\b\b\b\b\b\b\b\b\b\b\b\b\b\b\b\b\b\b\b\b\b\b\b\b\b\b\b\b\b\b\b\b\b\b\b\b\b\b\b\b\b\b\b\b\b\b\b\b\b\b\b\b\b\b\b\b\b\b\b\b\b\b\b\b\b\b\b\b\b\b\b\n63/63 [==============================] - 2s 33ms/step - loss: 4.1775 - accuracy: 0.4760\b\b\b\b\b\b\b\b\b\b\b\b\b\b\b\b\b\b\b\b\b\b\b\b\b\b\b\b\b\b\b\b\b\b\b\b\b\b\b\b\b\b\b\b\b\b\b\b\b\b\b\b\b\b\b\b\b\b\b\b\b\b\b\b\b\b\b\b\b\b\b\b\b\b\b\b\b\nSource model acc on target: 0.6487975716590881\ngradual self training accuracies: 0.4759519100189209\ngradual labelshift corrected self training accuracies: 0.3491984009742737\noracle accuracy: 0.7414829730987549\n[[1.00000000e-01 1.00000000e-01 1.00000000e-01 1.00000000e-01\n  1.00000000e-01 1.00000000e-01 1.00000000e-01 1.00000000e-01\n  1.00000000e-01 1.00000000e-01]\n [1.51586798e-02 3.76392015e-02 2.98032406e-02 4.48476236e-02\n  3.50811499e-02 4.94213285e-01 2.94530017e-02 9.21863186e-02\n  7.32032234e-02 1.48414276e-01]\n [2.15912427e-02 5.51028737e-02 2.05609023e-02 2.11689602e-01\n  1.48894010e-01 7.41906611e-02 9.54182305e-03 6.79268304e-03\n  3.81733721e-01 6.99024817e-02]\n [1.96958479e-02 2.51925060e-01 4.70902189e-02 1.42532173e-01\n  2.33042855e-01 1.80153829e-01 5.61150811e-02 2.16153325e-02\n  2.76610794e-03 4.50634947e-02]\n [5.64007125e-02 1.77595872e-01 4.11244643e-02 1.09455739e-02\n  4.38541308e-02 4.39731175e-01 8.32523047e-02 1.20821278e-01\n  2.33745862e-02 2.89990160e-03]\n [1.65450740e-01 5.06394312e-02 3.18190356e-01 1.28323865e-01\n  4.76854830e-02 3.88599145e-02 7.38496246e-02 4.31410905e-03\n  6.12021536e-02 1.11484324e-01]\n [2.38868652e-02 5.37177243e-03 9.57273788e-02 6.56753082e-02\n  1.42291637e-02 1.28720543e-02 9.07193554e-02 1.68851782e-01\n  3.65686243e-01 1.56980077e-01]\n [4.20489129e-03 1.21748083e-01 1.17343312e-01 1.83443402e-02\n  2.41512277e-01 9.24984646e-02 1.48236349e-01 2.07320420e-01\n  3.88644268e-02 9.92743644e-03]\n [1.22217509e-01 5.26903389e-03 5.11652960e-02 6.92563936e-02\n  3.30626567e-01 4.18706348e-02 2.44855489e-01 4.21597854e-02\n  7.52667990e-02 1.73124922e-02]\n [1.73264655e-01 1.54187708e-01 1.74559659e-01 4.27077977e-01\n  1.92549464e-02 3.15359125e-02 5.50815170e-03 5.54279731e-03\n  6.27363945e-03 2.79455421e-03]\n [1.09652428e-01 8.39554268e-02 3.55588135e-02 6.79077357e-02\n  2.99836931e-02 1.12541298e-04 1.75179202e-01 6.56641880e-02\n  1.68328698e-01 2.63657274e-01]\n [9.43523407e-02 7.29002734e-02 1.45844877e-02 1.32070114e-01\n  9.52847923e-03 4.88644371e-02 2.08011005e-01 4.56269655e-02\n  1.48408400e-01 2.25653499e-01]]\n32/32 [==============================] - 1s 19ms/step - loss: 0.5546 - accuracy: 0.8090\b\b\b\b\b\b\b\b\b\b\b\b\b\b\b\b\b\b\b\b\b\b\b\b\b\b\b\b\b\b\b\b\b\b\b\b\b\b\b\b\b\b\b\b\b\b\b\b\b\b\b\b\b\b\b\b\b\b\b\b\b\b\b\b\b\b\b\b\b\b\b\b\b\b\b\b\b\n63/63 [==============================] - 1s 19ms/step - loss: 1.1287 - accuracy: 0.6508\b\b\b\b\b\b\b\b\b\b\b\b\b\b\b\b\b\b\b\b\b\b\b\b\b\b\b\b\b\b\b\b\b\b\b\b\b\b\b\b\b\b\b\b\b\b\b\b\b\b\b\b\b\b\b\b\b\b\b\b\b\b\b\b\b\b\b\b\b\b\b\b\b\b\b\b\b\n\n\n Gradual corrected self-training:\n63/63 [==============================] - 1s 19ms/step - loss: 1.6142 - accuracy: 0.7960\b\b\b\b\b\b\b\b\b\b\b\b\b\b\b\b\b\b\b\b\b\b\b\b\b\b\b\b\b\b\b\b\b\b\b\b\b\b\b\b\b\b\b\b\b\b\b\b\b\b\b\b\b\b\b\b\b\b\b\b\b\b\b\b\b\b\b\b\b\b\b\b\b\b\b\b\b\b\b\n63/63 [==============================] - 1s 19ms/step - loss: 2.0905 - accuracy: 0.7730\b\b\b\b\b\b\b\b\b\b\b\b\b\b\b\b\b\b\b\b\b\b\b\b\b\b\b\b\b\b\b\b\b\b\b\b\b\b\b\b\b\b\b\b\b\b\b\b\b\b\b\b\b\b\b\b\b\b\b\b\b\b\b\b\b\b\b\b\b\b\b\b\b\b\b\b\b\n63/63 [==============================] - 1s 20ms/step - loss: 2.0292 - accuracy: 0.7570\b\b\b\b\b\b\b\b\b\b\b\b\b\b\b\b\b\b\b\b\b\b\b\b\b\b\b\b\b\b\b\b\b\b\b\b\b\b\b\b\b\b\b\b\b\b\b\b\b\b\b\b\b\b\b\b\b\b\b\b\b\b\b\b\b\b\b\b\b\b\b\b\b\b\b\b\b\n63/63 [==============================] - 1s 20ms/step - loss: 2.2279 - accuracy: 0.7330\b\b\b\b\b\b\b\b\b\b\b\b\b\b\b\b\b\b\b\b\b\b\b\b\b\b\b\b\b\b\b\b\b\b\b\b\b\b\b\b\b\b\b\b\b\b\b\b\b\b\b\b\b\b\b\b\b\b\b\b\b\b\b\b\b\b\b\b\b\b\b\b\b\b\b\b\b\n63/63 [==============================] - 1s 19ms/step - loss: 2.5200 - accuracy: 0.7195\b\b\b\b\b\b\b\b\b\b\b\b\b\b\b\b\b\b\b\b\b\b\b\b\b\b\b\b\b\b\b\b\b\b\b\b\b\b\b\b\b\b\b\b\b\b\b\b\b\b\b\b\b\b\b\b\b\b\b\b\b\b\b\b\b\b\b\b\b\b\b\b\b\b\b\b\b\n63/63 [==============================] - 1s 19ms/step - loss: 4.6074 - accuracy: 0.4995\b\b\b\b\b\b\b\b\b\b\b\b\b\b\b\b\b\b\b\b\b\b\b\b\b\b\b\b\b\b\b\b\b\b\b\b\b\b\b\b\b\b\b\b\b\b\b\b\b\b\b\b\b\b\b\b\b\b\b\b\b\b\b\b\b\b\b\b\b\b\b\b\b\b\b\b\b\n63/63 [==============================] - 2s 24ms/step - loss: 4.1165 - accuracy: 0.5345\b\b\b\b\b\b\b\b\b\b\b\b\b\b\b\b\b\b\b\b\b\b\b\b\b\b\b\b\b\b\b\b\b\b\b\b\b\b\b\b\b\b\b\b\b\b\b\b\b\b\b\b\b\b\b\b\b\b\b\b\b\b\b\b\b\b\b\b\b\b\b\b\b\b\b\b\b\n63/63 [==============================] - 2s 24ms/step - loss: 4.2941 - accuracy: 0.5425\b\b\b\b\b\b\b\b\b\b\b\b\b\b\b\b\b\b\b\b\b\b\b\b\b\b\b\b\b\b\b\b\b\b\b\b\b\b\b\b\b\b\b\b\b\b\b\b\b\b\b\b\b\b\b\b\b\b\b\b\b\b\b\b\b\b\b\b\b\b\b\b\b\b\b\b\b\n63/63 [==============================] - 1s 19ms/step - loss: 3.0535 - accuracy: 0.5890\b\b\b\b\b\b\b\b\b\b\b\b\b\b\b\b\b\b\b\b\b\b\b\b\b\b\b\b\b\b\b\b\b\b\b\b\b\b\b\b\b\b\b\b\b\b\b\b\b\b\b\b\b\b\b\b\b\b\b\b\b\b\b\b\b\b\b\b\b\b\b\b\b\b\b\b\b\n63/63 [==============================] - 1s 19ms/step - loss: 6.5371 - accuracy: 0.2645\b\b\b\b\b\b\b\b\b\b\b\b\b\b\b\b\b\b\b\b\b\b\b\b\b\b\b\b\b\b\b\b\b\b\b\b\b\b\b\b\b\b\b\b\b\b\b\b\b\b\b\b\b\b\b\b\b\b\b\b\b\b\b\b\b\b\b\b\b\b\b\b\b\b\b\b\b\n63/63 [==============================] - 1s 20ms/step - loss: 3.0656 - accuracy: 0.5536\b\b\b\b\b\b\b\b\b\b\b\b\b\b\b\b\b\b\b\b\b\b\b\b\b\b\b\b\b\b\b\b\b\b\b\b\b\b\b\b\b\b\b\b\b\b\b\b\b\b\b\b\b\b\b\b\b\b\b\b\b\b\b\b\b\b\b\b\b\b\b\b\b\b\b\b\b\n\n\n Direct train on target:\n63/63 [==============================] - 1s 20ms/step - loss: 0.5269 - accuracy: 0.8517\b\b\b\b\b\b\b\b\b\b\b\b\b\b\b\b\b\b\b\b\b\b\b\b\b\b\b\b\b\b\b\b\b\b\b\b\b\b\b\b\b\b\b\b\b\b\b\b\b\b\b\b\b\b\b\b\b\b\b\b\b\b\b\b\b\b\b\b\b\b\b\b\b\b\b\b\b\b\b\n\n\n Gradual self-training:\n63/63 [==============================] - 1s 20ms/step - loss: 1.6992 - accuracy: 0.8010\b\b\b\b\b\b\b\b\b\b\b\b\b\b\b\b\b\b\b\b\b\b\b\b\b\b\b\b\b\b\b\b\b\b\b\b\b\b\b\b\b\b\b\b\b\b\b\b\b\b\b\b\b\b\b\b\b\b\b\b\b\b\b\b\b\b\b\b\b\b\b\b\b\b\b\b\b\b\b\n63/63 [==============================] - 1s 19ms/step - loss: 3.7777 - accuracy: 0.7175\b\b\b\b\b\b\b\b\b\b\b\b\b\b\b\b\b\b\b\b\b\b\b\b\b\b\b\b\b\b\b\b\b\b\b\b\b\b\b\b\b\b\b\b\b\b\b\b\b\b\b\b\b\b\b\b\b\b\b\b\b\b\b\b\b\b\b\b\b\b\b\b\b\b\b\b\b\n63/63 [==============================] - 1s 19ms/step - loss: 3.2483 - accuracy: 0.7015\b\b\b\b\b\b\b\b\b\b\b\b\b\b\b\b\b\b\b\b\b\b\b\b\b\b\b\b\b\b\b\b\b\b\b\b\b\b\b\b\b\b\b\b\b\b\b\b\b\b\b\b\b\b\b\b\b\b\b\b\b\b\b\b\b\b\b\b\b\b\b\b\b\b\b\b\b\n63/63 [==============================] - 1s 19ms/step - loss: 3.6775 - accuracy: 0.6785\b\b\b\b\b\b\b\b\b\b\b\b\b\b\b\b\b\b\b\b\b\b\b\b\b\b\b\b\b\b\b\b\b\b\b\b\b\b\b\b\b\b\b\b\b\b\b\b\b\b\b\b\b\b\b\b\b\b\b\b\b\b\b\b\b\b\b\b\b\b\b\b\b\b\b\b\b\n63/63 [==============================] - 1s 19ms/step - loss: 4.3719 - accuracy: 0.6315\b\b\b\b\b\b\b\b\b\b\b\b\b\b\b\b\b\b\b\b\b\b\b\b\b\b\b\b\b\b\b\b\b\b\b\b\b\b\b\b\b\b\b\b\b\b\b\b\b\b\b\b\b\b\b\b\b\b\b\b\b\b\b\b\b\b\b\b\b\b\b\b\b\b\b\b\b\n63/63 [==============================] - 1s 19ms/step - loss: 6.1663 - accuracy: 0.4540\b\b\b\b\b\b\b\b\b\b\b\b\b\b\b\b\b\b\b\b\b\b\b\b\b\b\b\b\b\b\b\b\b\b\b\b\b\b\b\b\b\b\b\b\b\b\b\b\b\b\b\b\b\b\b\b\b\b\b\b\b\b\b\b\b\b\b\b\b\b\b\b\b\b\b\b\b\n63/63 [==============================] - 2s 24ms/step - loss: 4.9092 - accuracy: 0.5740\b\b\b\b\b\b\b\b\b\b\b\b\b\b\b\b\b\b\b\b\b\b\b\b\b\b\b\b\b\b\b\b\b\b\b\b\b\b\b\b\b\b\b\b\b\b\b\b\b\b\b\b\b\b\b\b\b\b\b\b\b\b\b\b\b\b\b\b\b\b\b\b\b\b\b\b\b\n63/63 [==============================] - 2s 24ms/step - loss: 4.9084 - accuracy: 0.5465\b\b\b\b\b\b\b\b\b\b\b\b\b\b\b\b\b\b\b\b\b\b\b\b\b\b\b\b\b\b\b\b\b\b\b\b\b\b\b\b\b\b\b\b\b\b\b\b\b\b\b\b\b\b\b\b\b\b\b\b\b\b\b\b\b\b\b\b\b\b\b\b\b\b\b\b\b\n63/63 [==============================] - 2s 24ms/step - loss: 4.6558 - accuracy: 0.6040\b\b\b\b\b\b\b\b\b\b\b\b\b\b\b\b\b\b\b\b\b\b\b\b\b\b\b\b\b\b\b\b\b\b\b\b\b\b\b\b\b\b\b\b\b\b\b\b\b\b\b\b\b\b\b\b\b\b\b\b\b\b\b\b\b\b\b\b\b\b\b\b\b\b\b\b\b\n63/63 [==============================] - 1s 19ms/step - loss: 11.1588 - accuracy: 0.2435\b\b\b\b\b\b\b\b\b\b\b\b\b\b\b\b\b\b\b\b\b\b\b\b\b\b\b\b\b\b\b\b\b\b\b\b\b\b\b\b\b\b\b\b\b\b\b\b\b\b\b\b\b\b\b\b\b\b\b\b\b\b\b\b\b\b\b\b\b\b\b\b\b\b\b\b\b\b\n63/63 [==============================] - 1s 19ms/step - loss: 4.3396 - accuracy: 0.5286\b\b\b\b\b\b\b\b\b\b\b\b\b\b\b\b\b\b\b\b\b\b\b\b\b\b\b\b\b\b\b\b\b\b\b\b\b\b\b\b\b\b\b\b\b\b\b\b\b\b\b\b\b\b\b\b\b\b\b\b\b\b\b\b\b\b\b\b\b\b\b\b\b\b\b\b\b\nSource model acc on target: 0.6508015990257263\ngradual self training accuracies: 0.5285571217536926\ngradual labelshift corrected self training accuracies: 0.5536072254180908\noracle accuracy: 0.851703405380249\n[[0.1        0.1        0.1        0.1        0.1        0.1\n  0.1        0.1        0.1        0.1       ]\n [0.0060662  0.2132596  0.01834556 0.06104647 0.22159185 0.2505993\n  0.090124   0.04055487 0.08290614 0.01550601]\n [0.01290315 0.07977393 0.00581278 0.04596684 0.17179644 0.07243845\n  0.16463559 0.14892082 0.13410906 0.16364294]\n [0.18098569 0.00096944 0.06295257 0.06508883 0.02642653 0.10073425\n  0.10061693 0.07318372 0.14092444 0.2481176 ]\n [0.17604315 0.04013507 0.32937235 0.02266763 0.24244146 0.00420372\n  0.07450878 0.00130184 0.08392183 0.02540416]\n [0.26571471 0.02536909 0.19189585 0.01958813 0.22616978 0.09447289\n  0.0055219  0.05976732 0.02891059 0.08258973]\n [0.16636928 0.09934732 0.14003087 0.03691179 0.18316846 0.05562928\n  0.02470641 0.05974627 0.06232745 0.17176287]\n [0.01864708 0.01998859 0.06194356 0.04597126 0.09451867 0.1441929\n  0.10615974 0.01840633 0.3753608  0.11481108]\n [0.29694032 0.13138208 0.09991254 0.00400424 0.04105558 0.15803366\n  0.0131956  0.04179173 0.16480073 0.04888351]\n [0.08512954 0.14658805 0.31221347 0.08808858 0.09253728 0.11729484\n  0.00958165 0.02076049 0.02840058 0.09940551]\n [0.08660042 0.53274482 0.05192705 0.04200315 0.0756492  0.04642753\n  0.05170198 0.06156881 0.04907798 0.00229907]\n [0.05940248 0.01342077 0.1538976  0.09321016 0.26306702 0.1276715\n  0.05214426 0.07234706 0.01128422 0.15355494]]\n32/32 [==============================] - 1s 20ms/step - loss: 0.4745 - accuracy: 0.8400\b\b\b\b\b\b\b\b\b\b\b\b\b\b\b\b\b\b\b\b\b\b\b\b\b\b\b\b\b\b\b\b\b\b\b\b\b\b\b\b\b\b\b\b\b\b\b\b\b\b\b\b\b\b\b\b\b\b\b\b\b\b\b\b\b\b\b\b\b\b\b\b\b\b\b\b\b\n63/63 [==============================] - 1s 19ms/step - loss: 1.1988 - accuracy: 0.6296\b\b\b\b\b\b\b\b\b\b\b\b\b\b\b\b\b\b\b\b\b\b\b\b\b\b\b\b\b\b\b\b\b\b\b\b\b\b\b\b\b\b\b\b\b\b\b\b\b\b\b\b\b\b\b\b\b\b\b\b\b\b\b\b\b\b\b\b\b\b\b\b\b\b\b\b\b\n\n\n Gradual corrected self-training:\n63/63 [==============================] - 1s 19ms/step - loss: 1.3829 - accuracy: 0.8255\b\b\b\b\b\b\b\b\b\b\b\b\b\b\b\b\b\b\b\b\b\b\b\b\b\b\b\b\b\b\b\b\b\b\b\b\b\b\b\b\b\b\b\b\b\b\b\b\b\b\b\b\b\b\b\b\b\b\b\b\b\b\b\b\b\b\b\b\b\b\b\b\b\b\b\b\b\b\b\n63/63 [==============================] - 1s 19ms/step - loss: 1.6707 - accuracy: 0.7950\b\b\b\b\b\b\b\b\b\b\b\b\b\b\b\b\b\b\b\b\b\b\b\b\b\b\b\b\b\b\b\b\b\b\b\b\b\b\b\b\b\b\b\b\b\b\b\b\b\b\b\b\b\b\b\b\b\b\b\b\b\b\b\b\b\b\b\b\b\b\b\b\b\b\b\b\b\n63/63 [==============================] - 1s 19ms/step - loss: 2.0394 - accuracy: 0.7485\b\b\b\b\b\b\b\b\b\b\b\b\b\b\b\b\b\b\b\b\b\b\b\b\b\b\b\b\b\b\b\b\b\b\b\b\b\b\b\b\b\b\b\b\b\b\b\b\b\b\b\b\b\b\b\b\b\b\b\b\b\b\b\b\b\b\b\b\b\b\b\b\b\b\b\b\b\n63/63 [==============================] - 1s 19ms/step - loss: 2.7761 - accuracy: 0.6295\b\b\b\b\b\b\b\b\b\b\b\b\b\b\b\b\b\b\b\b\b\b\b\b\b\b\b\b\b\b\b\b\b\b\b\b\b\b\b\b\b\b\b\b\b\b\b\b\b\b\b\b\b\b\b\b\b\b\b\b\b\b\b\b\b\b\b\b\b\b\b\b\b\b\b\b\b\n63/63 [==============================] - 1s 19ms/step - loss: 5.3210 - accuracy: 0.4310\b\b\b\b\b\b\b\b\b\b\b\b\b\b\b\b\b\b\b\b\b\b\b\b\b\b\b\b\b\b\b\b\b\b\b\b\b\b\b\b\b\b\b\b\b\b\b\b\b\b\b\b\b\b\b\b\b\b\b\b\b\b\b\b\b\b\b\b\b\b\b\b\b\b\b\b\b\n63/63 [==============================] - 2s 25ms/step - loss: 6.8042 - accuracy: 0.4160\b\b\b\b\b\b\b\b\b\b\b\b\b\b\b\b\b\b\b\b\b\b\b\b\b\b\b\b\b\b\b\b\b\b\b\b\b\b\b\b\b\b\b\b\b\b\b\b\b\b\b\b\b\b\b\b\b\b\b\b\b\b\b\b\b\b\b\b\b\b\b\b\b\b\b\b\b\n63/63 [==============================] - 2s 24ms/step - loss: 6.1228 - accuracy: 0.4295\b\b\b\b\b\b\b\b\b\b\b\b\b\b\b\b\b\b\b\b\b\b\b\b\b\b\b\b\b\b\b\b\b\b\b\b\b\b\b\b\b\b\b\b\b\b\b\b\b\b\b\b\b\b\b\b\b\b\b\b\b\b\b\b\b\b\b\b\b\b\b\b\b\b\b\b\b\n63/63 [==============================] - 1s 19ms/step - loss: 2.8286 - accuracy: 0.6760\b\b\b\b\b\b\b\b\b\b\b\b\b\b\b\b\b\b\b\b\b\b\b\b\b\b\b\b\b\b\b\b\b\b\b\b\b\b\b\b\b\b\b\b\b\b\b\b\b\b\b\b\b\b\b\b\b\b\b\b\b\b\b\b\b\b\b\b\b\b\b\b\b\b\b\b\b\n63/63 [==============================] - 1s 19ms/step - loss: 7.9209 - accuracy: 0.3430\b\b\b\b\b\b\b\b\b\b\b\b\b\b\b\b\b\b\b\b\b\b\b\b\b\b\b\b\b\b\b\b\b\b\b\b\b\b\b\b\b\b\b\b\b\b\b\b\b\b\b\b\b\b\b\b\b\b\b\b\b\b\b\b\b\b\b\b\b\b\b\b\b\b\b\b\b\n63/63 [==============================] - 1s 19ms/step - loss: 8.1202 - accuracy: 0.3150\b\b\b\b\b\b\b\b\b\b\b\b\b\b\b\b\b\b\b\b\b\b\b\b\b\b\b\b\b\b\b\b\b\b\b\b\b\b\b\b\b\b\b\b\b\b\b\b\b\b\b\b\b\b\b\b\b\b\b\b\b\b\b\b\b\b\b\b\b\b\b\b\b\b\b\b\b\n63/63 [==============================] - 1s 19ms/step - loss: 5.2179 - accuracy: 0.4521\b\b\b\b\b\b\b\b\b\b\b\b\b\b\b\b\b\b\b\b\b\b\b\b\b\b\b\b\b\b\b\b\b\b\b\b\b\b\b\b\b\b\b\b\b\b\b\b\b\b\b\b\b\b\b\b\b\b\b\b\b\b\b\b\b\b\b\b\b\b\b\b\b\b\b\b\b\n\n\n Direct train on target:\n63/63 [==============================] - 1s 19ms/step - loss: 0.8532 - accuracy: 0.7539\b\b\b\b\b\b\b\b\b\b\b\b\b\b\b\b\b\b\b\b\b\b\b\b\b\b\b\b\b\b\b\b\b\b\b\b\b\b\b\b\b\b\b\b\b\b\b\b\b\b\b\b\b\b\b\b\b\b\b\b\b\b\b\b\b\b\b\b\b\b\b\b\b\b\b\b\b\b\b\n\n\n Gradual self-training:\n63/63 [==============================] - 1s 20ms/step - loss: 1.4278 - accuracy: 0.8320\b\b\b\b\b\b\b\b\b\b\b\b\b\b\b\b\b\b\b\b\b\b\b\b\b\b\b\b\b\b\b\b\b\b\b\b\b\b\b\b\b\b\b\b\b\b\b\b\b\b\b\b\b\b\b\b\b\b\b\b\b\b\b\b\b\b\b\b\b\b\b\b\b\b\b\b\b\b\b\n63/63 [==============================] - 1s 21ms/step - loss: 2.3036 - accuracy: 0.7860\b\b\b\b\b\b\b\b\b\b\b\b\b\b\b\b\b\b\b\b\b\b\b\b\b\b\b\b\b\b\b\b\b\b\b\b\b\b\b\b\b\b\b\b\b\b\b\b\b\b\b\b\b\b\b\b\b\b\b\b\b\b\b\b\b\b\b\b\b\b\b\b\b\b\b\b\b\n63/63 [==============================] - 1s 19ms/step - loss: 1.9447 - accuracy: 0.8075\b\b\b\b\b\b\b\b\b\b\b\b\b\b\b\b\b\b\b\b\b\b\b\b\b\b\b\b\b\b\b\b\b\b\b\b\b\b\b\b\b\b\b\b\b\b\b\b\b\b\b\b\b\b\b\b\b\b\b\b\b\b\b\b\b\b\b\b\b\b\b\b\b\b\b\b\b\n63/63 [==============================] - 1s 20ms/step - loss: 3.0392 - accuracy: 0.7000\b\b\b\b\b\b\b\b\b\b\b\b\b\b\b\b\b\b\b\b\b\b\b\b\b\b\b\b\b\b\b\b\b\b\b\b\b\b\b\b\b\b\b\b\b\b\b\b\b\b\b\b\b\b\b\b\b\b\b\b\b\b\b\b\b\b\b\b\b\b\b\b\b\b\b\b\b\n63/63 [==============================] - 1s 19ms/step - loss: 5.7835 - accuracy: 0.5285\b\b\b\b\b\b\b\b\b\b\b\b\b\b\b\b\b\b\b\b\b\b\b\b\b\b\b\b\b\b\b\b\b\b\b\b\b\b\b\b\b\b\b\b\b\b\b\b\b\b\b\b\b\b\b\b\b\b\b\b\b\b\b\b\b\b\b\b\b\b\b\b\b\b\b\b\b\n63/63 [==============================] - 2s 24ms/step - loss: 5.6063 - accuracy: 0.5315\b\b\b\b\b\b\b\b\b\b\b\b\b\b\b\b\b\b\b\b\b\b\b\b\b\b\b\b\b\b\b\b\b\b\b\b\b\b\b\b\b\b\b\b\b\b\b\b\b\b\b\b\b\b\b\b\b\b\b\b\b\b\b\b\b\b\b\b\b\b\b\b\b\b\b\b\b\n63/63 [==============================] - 2s 24ms/step - loss: 4.6883 - accuracy: 0.5885\b\b\b\b\b\b\b\b\b\b\b\b\b\b\b\b\b\b\b\b\b\b\b\b\b\b\b\b\b\b\b\b\b\b\b\b\b\b\b\b\b\b\b\b\b\b\b\b\b\b\b\b\b\b\b\b\b\b\b\b\b\b\b\b\b\b\b\b\b\b\b\b\b\b\b\b\b\n63/63 [==============================] - 2s 25ms/step - loss: 3.0172 - accuracy: 0.7225\b\b\b\b\b\b\b\b\b\b\b\b\b\b\b\b\b\b\b\b\b\b\b\b\b\b\b\b\b\b\b\b\b\b\b\b\b\b\b\b\b\b\b\b\b\b\b\b\b\b\b\b\b\b\b\b\b\b\b\b\b\b\b\b\b\b\b\b\b\b\b\b\b\b\b\b\b\n63/63 [==============================] - 1s 20ms/step - loss: 6.1287 - accuracy: 0.4820\b\b\b\b\b\b\b\b\b\b\b\b\b\b\b\b\b\b\b\b\b\b\b\b\b\b\b\b\b\b\b\b\b\b\b\b\b\b\b\b\b\b\b\b\b\b\b\b\b\b\b\b\b\b\b\b\b\b\b\b\b\b\b\b\b\b\b\b\b\b\b\b\b\b\b\b\b\n63/63 [==============================] - 1s 20ms/step - loss: 7.2414 - accuracy: 0.4420\b\b\b\b\b\b\b\b\b\b\b\b\b\b\b\b\b\b\b\b\b\b\b\b\b\b\b\b\b\b\b\b\b\b\b\b\b\b\b\b\b\b\b\b\b\b\b\b\b\b\b\b\b\b\b\b\b\b\b\b\b\b\b\b\b\b\b\b\b\b\b\b\b\b\b\b\b\n63/63 [==============================] - 1s 20ms/step - loss: 4.2434 - accuracy: 0.5298\b\b\b\b\b\b\b\b\b\b\b\b\b\b\b\b\b\b\b\b\b\b\b\b\b\b\b\b\b\b\b\b\b\b\b\b\b\b\b\b\b\b\b\b\b\b\b\b\b\b\b\b\b\b\b\b\b\b\b\b\b\b\b\b\b\b\b\b\b\b\b\b\b\b\b\b\b\nSource model acc on target: 0.6295739412307739\ngradual self training accuracies: 0.5298245549201965\ngradual labelshift corrected self training accuracies: 0.4521303176879883\noracle accuracy: 0.7538847327232361\n[[0.1        0.1        0.1        0.1        0.1        0.1\n  0.1        0.1        0.1        0.1       ]\n [0.03545721 0.07249803 0.03406224 0.38866601 0.18723247 0.06505994\n  0.00288328 0.15104903 0.01732113 0.04577066]\n [0.0075707  0.23161334 0.06692286 0.19061684 0.16011892 0.05397914\n  0.01864455 0.06846275 0.07988821 0.1221827 ]\n [0.20786835 0.1723624  0.02278544 0.00183359 0.06531973 0.12081792\n  0.03224251 0.23807961 0.02299673 0.11569371]\n [0.11106825 0.09519837 0.18457551 0.07852802 0.02255294 0.19786064\n  0.10745346 0.11380784 0.08432286 0.00463211]\n [0.08672617 0.00507977 0.0414639  0.18275213 0.12804289 0.05660914\n  0.20589261 0.1744795  0.0427676  0.07618629]\n [0.12647596 0.08620563 0.1696831  0.01375587 0.13056761 0.00213856\n  0.21583891 0.01277473 0.16952821 0.07303142]\n [0.10679945 0.04070113 0.0365359  0.11757403 0.16780084 0.05849428\n  0.05783919 0.08692849 0.30260226 0.02472442]\n [0.03935461 0.24754595 0.0144143  0.08040064 0.0163586  0.00130784\n  0.24112744 0.00715393 0.05836916 0.29396753]\n [0.02700974 0.02464413 0.33760887 0.0091462  0.2214763  0.11303802\n  0.01170024 0.1510799  0.03309033 0.07120626]\n [0.11299095 0.01135502 0.04067318 0.4301364  0.02356279 0.11301033\n  0.09932005 0.00790535 0.03941947 0.12162645]\n [0.11157525 0.11993706 0.08943385 0.32517033 0.15932016 0.04647553\n  0.02016696 0.0829687  0.04331401 0.00163814]]\n32/32 [==============================] - 1s 20ms/step - loss: 0.5356 - accuracy: 0.8330\b\b\b\b\b\b\b\b\b\b\b\b\b\b\b\b\b\b\b\b\b\b\b\b\b\b\b\b\b\b\b\b\b\b\b\b\b\b\b\b\b\b\b\b\b\b\b\b\b\b\b\b\b\b\b\b\b\b\b\b\b\b\b\b\b\b\b\b\b\b\b\b\b\b\b\b\b\n63/63 [==============================] - 1s 20ms/step - loss: 1.0404 - accuracy: 0.6414\b\b\b\b\b\b\b\b\b\b\b\b\b\b\b\b\b\b\b\b\b\b\b\b\b\b\b\b\b\b\b\b\b\b\b\b\b\b\b\b\b\b\b\b\b\b\b\b\b\b\b\b\b\b\b\b\b\b\b\b\b\b\b\b\b\b\b\b\b\b\b\b\b\b\b\b\b\n\n\n Gradual corrected self-training:\n63/63 [==============================] - 1s 19ms/step - loss: 1.8131 - accuracy: 0.7765\b\b\b\b\b\b\b\b\b\b\b\b\b\b\b\b\b\b\b\b\b\b\b\b\b\b\b\b\b\b\b\b\b\b\b\b\b\b\b\b\b\b\b\b\b\b\b\b\b\b\b\b\b\b\b\b\b\b\b\b\b\b\b\b\b\b\b\b\b\b\b\b\b\b\b\b\b\b\b\n63/63 [==============================] - 1s 19ms/step - loss: 2.5814 - accuracy: 0.7305\b\b\b\b\b\b\b\b\b\b\b\b\b\b\b\b\b\b\b\b\b\b\b\b\b\b\b\b\b\b\b\b\b\b\b\b\b\b\b\b\b\b\b\b\b\b\b\b\b\b\b\b\b\b\b\b\b\b\b\b\b\b\b\b\b\b\b\b\b\b\b\b\b\b\b\b\b\n63/63 [==============================] - 1s 20ms/step - loss: 2.3012 - accuracy: 0.6975\b\b\b\b\b\b\b\b\b\b\b\b\b\b\b\b\b\b\b\b\b\b\b\b\b\b\b\b\b\b\b\b\b\b\b\b\b\b\b\b\b\b\b\b\b\b\b\b\b\b\b\b\b\b\b\b\b\b\b\b\b\b\b\b\b\b\b\b\b\b\b\b\b\b\b\b\b\n63/63 [==============================] - 1s 19ms/step - loss: 2.1783 - accuracy: 0.7275\b\b\b\b\b\b\b\b\b\b\b\b\b\b\b\b\b\b\b\b\b\b\b\b\b\b\b\b\b\b\b\b\b\b\b\b\b\b\b\b\b\b\b\b\b\b\b\b\b\b\b\b\b\b\b\b\b\b\b\b\b\b\b\b\b\b\b\b\b\b\b\b\b\b\b\b\b\n63/63 [==============================] - 2s 25ms/step - loss: 3.2820 - accuracy: 0.6285\b\b\b\b\b\b\b\b\b\b\b\b\b\b\b\b\b\b\b\b\b\b\b\b\b\b\b\b\b\b\b\b\b\b\b\b\b\b\b\b\b\b\b\b\b\b\b\b\b\b\b\b\b\b\b\b\b\b\b\b\b\b\b\b\b\b\b\b\b\b\b\b\b\b\b\b\b\n63/63 [==============================] - 2s 24ms/step - loss: 3.4407 - accuracy: 0.5930\b\b\b\b\b\b\b\b\b\b\b\b\b\b\b\b\b\b\b\b\b\b\b\b\b\b\b\b\b\b\b\b\b\b\b\b\b\b\b\b\b\b\b\b\b\b\b\b\b\b\b\b\b\b\b\b\b\b\b\b\b\b\b\b\b\b\b\b\b\b\b\b\b\b\b\b\b\n63/63 [==============================] - 2s 24ms/step - loss: 3.3830 - accuracy: 0.6485\b\b\b\b\b\b\b\b\b\b\b\b\b\b\b\b\b\b\b\b\b\b\b\b\b\b\b\b\b\b\b\b\b\b\b\b\b\b\b\b\b\b\b\b\b\b\b\b\b\b\b\b\b\b\b\b\b\b\b\b\b\b\b\b\b\b\b\b\b\b\b\b\b\b\b\b\b\n63/63 [==============================] - 1s 19ms/step - loss: 3.3600 - accuracy: 0.5775\b\b\b\b\b\b\b\b\b\b\b\b\b\b\b\b\b\b\b\b\b\b\b\b\b\b\b\b\b\b\b\b\b\b\b\b\b\b\b\b\b\b\b\b\b\b\b\b\b\b\b\b\b\b\b\b\b\b\b\b\b\b\b\b\b\b\b\b\b\b\b\b\b\b\b\b\b\n63/63 [==============================] - 1s 19ms/step - loss: 2.7869 - accuracy: 0.6640\b\b\b\b\b\b\b\b\b\b\b\b\b\b\b\b\b\b\b\b\b\b\b\b\b\b\b\b\b\b\b\b\b\b\b\b\b\b\b\b\b\b\b\b\b\b\b\b\b\b\b\b\b\b\b\b\b\b\b\b\b\b\b\b\b\b\b\b\b\b\b\b\b\b\b\b\b\n63/63 [==============================] - 1s 19ms/step - loss: 5.9246 - accuracy: 0.3705\b\b\b\b\b\b\b\b\b\b\b\b\b\b\b\b\b\b\b\b\b\b\b\b\b\b\b\b\b\b\b\b\b\b\b\b\b\b\b\b\b\b\b\b\b\b\b\b\b\b\b\b\b\b\b\b\b\b\b\b\b\b\b\b\b\b\b\b\b\b\b\b\b\b\b\b\b\n63/63 [==============================] - 1s 20ms/step - loss: 6.7213 - accuracy: 0.2593\b\b\b\b\b\b\b\b\b\b\b\b\b\b\b\b\b\b\b\b\b\b\b\b\b\b\b\b\b\b\b\b\b\b\b\b\b\b\b\b\b\b\b\b\b\b\b\b\b\b\b\b\b\b\b\b\b\b\b\b\b\b\b\b\b\b\b\b\b\b\b\b\b\b\b\b\b\n\n\n Direct train on target:\n63/63 [==============================] - 1s 19ms/step - loss: 0.8247 - accuracy: 0.7803\b\b\b\b\b\b\b\b\b\b\b\b\b\b\b\b\b\b\b\b\b\b\b\b\b\b\b\b\b\b\b\b\b\b\b\b\b\b\b\b\b\b\b\b\b\b\b\b\b\b\b\b\b\b\b\b\b\b\b\b\b\b\b\b\b\b\b\b\b\b\b\b\b\b\b\b\b\b\b\n\n\n Gradual self-training:\n63/63 [==============================] - 1s 19ms/step - loss: 2.0537 - accuracy: 0.7830\b\b\b\b\b\b\b\b\b\b\b\b\b\b\b\b\b\b\b\b\b\b\b\b\b\b\b\b\b\b\b\b\b\b\b\b\b\b\b\b\b\b\b\b\b\b\b\b\b\b\b\b\b\b\b\b\b\b\b\b\b\b\b\b\b\b\b\b\b\b\b\b\b\b\b\b\b\b\b\n63/63 [==============================] - 1s 20ms/step - loss: 3.7292 - accuracy: 0.6715\b\b\b\b\b\b\b\b\b\b\b\b\b\b\b\b\b\b\b\b\b\b\b\b\b\b\b\b\b\b\b\b\b\b\b\b\b\b\b\b\b\b\b\b\b\b\b\b\b\b\b\b\b\b\b\b\b\b\b\b\b\b\b\b\b\b\b\b\b\b\b\b\b\b\b\b\b\n"
        }
      ],
      "execution_count": 37,
      "metadata": {
        "jupyter": {
          "source_hidden": false,
          "outputs_hidden": false
        },
        "nteract": {
          "transient": {
            "deleting": false
          }
        }
      }
    },
    {
      "cell_type": "code",
      "source": [
        "# RESULTS (n_epochs=30)\n",
        "# above was interrupted after 7 repeats, copying results here from logs above\n",
        "#n_repeat * [src model, self train no correction, self train corrected, oracle]\n",
        "res_shift = np.array([[0.6447895765304565,0.34769538044929504,0.4393787682056427,0.8191382884979248],\n",
        "                [0.6889111995697021,0.26693427562713623,0.2599096894264221,0.7651781439781189],\n",
        "                [0.6292585134506226,0.26002004742622375,0.2760521173477173,0.8151302337646484],\n",
        "                [0.6175438761711121,0.33734336495399475,0.4045112729072571,0.826065182685852],\n",
        "                [0.6487975716590881,0.4759519100189209,0.3491984009742737,0.7414829730987549],\n",
        "                [0.6508015990257263,0.5285571217536926,0.5536072254180908,0.851703405380249],\n",
        "                [0.6295739412307739,0.5298245549201965,0.4521303176879883,0.7538847327232361]])\n",
        "res_mean = np.mean(res_shift, axis=0)\n",
        "res_std = np.std(res_shift, axis=0)\n",
        "nols_res = np.array([0.656499981880188, 0.4894999861717224, 0.789])\n",
        "print(\"No label shift + gradual x|y rotation\")\n",
        "print(\"   src model    |            self train                  |   oracle\")\n",
        "print(f\"{nols_res[0]:.4f}          |               {nols_res[1]:.4f}                   |  {nols_res[2]:.4f}\")\n",
        "print(\"\")\n",
        "print(\"Arbitrary label shift per step (Dirichlet alpha=1) + gradual x|y rotation, 8 repeats\")\n",
        "print(\"   src model    |    self train   | self train corrected |   oracle\")\n",
        "print(f\"{res_mean[0]:.4f} ({res_std[0]:.4f}) | {res_mean[1]:.4f} ({res_std[1]:.4f}) |    {res_mean[2]:.4f} ({res_std[2]:.4f})   | {res_mean[3]:.4f} ({res_std[3]:.4f})\")"
      ],
      "outputs": [
        {
          "output_type": "stream",
          "name": "stdout",
          "text": "No label shift + gradual x|y rotation\n   src model    |            self train                  |   oracle\n0.6565          |               0.4895                   |  0.7890\n\nArbitrary label shift per step (Dirichlet alpha=1) + gradual x|y rotation, 8 repeats\n   src model    |    self train   | self train corrected |   oracle\n0.6442 (0.0214) | 0.3923 (0.1087) |    0.3907 (0.0962)   | 0.7961 (0.0389)\n"
        }
      ],
      "execution_count": 62,
      "metadata": {
        "jupyter": {
          "source_hidden": false,
          "outputs_hidden": false
        },
        "nteract": {
          "transient": {
            "deleting": false
          }
        },
        "gather": {
          "logged": 1635626195360
        }
      }
    },
    {
      "cell_type": "code",
      "source": [
        "# RESULTS (n_epochs=100)\n",
        "# no label shift exp\n",
        "# 100 epochs\n",
        "train on src, eval on target: 0.717\n",
        "gradual self training accuracy: 0.576\n",
        "oracle accuracy: 0.815\n",
        "\n",
        "# repeat 0\n",
        "# 100 epochs\n",
        "Source model acc on target: 0.7094832062721252\n",
        "gradual self training accuracies: 0.42900151014328003\n",
        "gradual labelshift corrected self training accuracies: 0.42950326204299927\n",
        "oracle accuracy: 0.7706974148750305\n"
      ],
      "outputs": [],
      "execution_count": null,
      "metadata": {
        "jupyter": {
          "source_hidden": false,
          "outputs_hidden": false
        },
        "nteract": {
          "transient": {
            "deleting": false
          }
        }
      }
    },
    {
      "cell_type": "code",
      "source": [],
      "outputs": [],
      "execution_count": null,
      "metadata": {
        "jupyter": {
          "source_hidden": false,
          "outputs_hidden": false
        },
        "nteract": {
          "transient": {
            "deleting": false
          }
        }
      }
    }
  ],
  "metadata": {
    "kernelspec": {
      "name": "azureml_py38_tensorflow",
      "language": "python",
      "display_name": "Python 3.8 - Tensorflow"
    },
    "language_info": {
      "name": "python",
      "version": "3.8.1",
      "mimetype": "text/x-python",
      "codemirror_mode": {
        "name": "ipython",
        "version": 3
      },
      "pygments_lexer": "ipython3",
      "nbconvert_exporter": "python",
      "file_extension": ".py"
    },
    "kernel_info": {
      "name": "azureml_py38_tensorflow"
    },
    "nteract": {
      "version": "nteract-front-end@1.0.0"
    }
  },
  "nbformat": 4,
  "nbformat_minor": 2
}